{
 "cells": [
  {
   "cell_type": "markdown",
   "id": "163bfafb-2186-47b0-8f46-7a52fbe33544",
   "metadata": {
    "slideshow": {
     "slide_type": "notes"
    },
    "tags": []
   },
   "source": [
    "```sh\n",
    "$ jupyter nbconvert tutorial.ipynb --to slides --post serve --SlidesExporter.reveal_transition=none --HTMLExporter.theme=dark --SlidesExporter.reveal_theme=night --SlidesExporter.reveal_scroll=true\n",
    "```"
   ]
  },
  {
   "cell_type": "code",
   "execution_count": 5,
   "id": "1dce7758-7225-44e5-acdc-d5e243f1bd22",
   "metadata": {
    "slideshow": {
     "slide_type": "notes"
    },
    "tags": []
   },
   "outputs": [
    {
     "data": {
      "text/html": [
       "\n",
       "<style>\n",
       ".reveal h1 {\n",
       "color: #4ec5c7;\n",
       "}\n",
       "</style>\n"
      ],
      "text/plain": [
       "<IPython.core.display.HTML object>"
      ]
     },
     "metadata": {},
     "output_type": "display_data"
    }
   ],
   "source": [
    "%%html\n",
    "\n",
    "<style>\n",
    "// add your CSS styling here\n",
    ".reveal h1 {\n",
    "color: #4ec5c7;\n",
    "}\n",
    "</style>"
   ]
  },
  {
   "cell_type": "markdown",
   "id": "2185b04c-1c39-4b92-9684-1eb968bf4ae2",
   "metadata": {
    "slideshow": {
     "slide_type": "slide"
    },
    "tags": []
   },
   "source": [
    "# The Model Review\n",
    "\n",
    "_improving transparency, reproducibility & knowledge sharing with MLflow_\n",
    "\n",
    "<img src=\"img/mlflow.png\" style=\"width: 150px; padding: 0px 0px 20px 150px;\">\n",
    "\n",
    "Jes Ford, PhD  \n",
    "ML Engineer at Cash App"
   ]
  },
  {
   "cell_type": "markdown",
   "id": "bb51f474-b7f6-4ff9-8af8-03b048d7f31f",
   "metadata": {
    "slideshow": {
     "slide_type": "slide"
    },
    "tags": []
   },
   "source": [
    "# About Me\n",
    "\n",
    "- Snowboarder 1st 🏂\n",
    "- Originally from Alaska, currently living in Salt Lake City\n",
    "- PhD in Physics 🔭\n",
    "- Machine Learning Engineer (Modeler) at Cash App, Block\n",
    "- Working on Natural Language Understanding for Customer Support"
   ]
  },
  {
   "cell_type": "markdown",
   "id": "52a88e46-c8d8-469b-95fa-39f66a33a1e4",
   "metadata": {
    "slideshow": {
     "slide_type": "slide"
    },
    "tags": []
   },
   "source": [
    "# About this talk\n",
    "\n",
    "- Why did my team decide to adopt a process for Model Review?\n",
    "- What does Model Review mean?\n",
    "- Our primary tool for review: MLflow\n",
    "- Intro to MLflow\n",
    "- How we are using MLflow to solve some of our problems"
   ]
  },
  {
   "cell_type": "markdown",
   "id": "3b7f3a7a-0d1a-45ce-908c-0a32cf3a60e5",
   "metadata": {
    "slideshow": {
     "slide_type": "slide"
    },
    "tags": []
   },
   "source": [
    "# Motivation\n",
    "\n",
    "Our team had recently doubled in size and was deploying lots of models.\n",
    "\n",
    "But we had no good record keeping on what models exactly were in production, how they were trained, or what tricks or approaches were working well..."
   ]
  },
  {
   "cell_type": "markdown",
   "id": "218654f2-9224-4562-b3bb-0c6e0c42d78a",
   "metadata": {
    "slideshow": {
     "slide_type": "slide"
    },
    "tags": []
   },
   "source": [
    "# Motivation\n",
    "\n",
    "What if a model needed to be retrained?\n",
    "\n",
    "A new team member wants to build off the work that came before them?\n",
    "\n",
    "What was the precision on that model supposed to be anyway?"
   ]
  },
  {
   "cell_type": "markdown",
   "id": "33785704-075d-4ee8-8556-477869c68d4e",
   "metadata": {
    "slideshow": {
     "slide_type": "fragment"
    },
    "tags": []
   },
   "source": [
    "## _uhhh, let me see if I can find that notebook..._"
   ]
  },
  {
   "cell_type": "markdown",
   "id": "8d7c5159-7454-4ae1-a7cf-aea9c0df463b",
   "metadata": {
    "slideshow": {
     "slide_type": "slide"
    },
    "tags": []
   },
   "source": [
    "# Goals for a new Model Review Process\n",
    "\n",
    "1. **Transparency** and record keeping of what exactly is being deployed\n",
    "2. **Reproducibility** of past experiments and ease of building off of them\n",
    "3. **Knowledge Sharing** so we can learn from each other and new teammembers can get up to speed"
   ]
  },
  {
   "cell_type": "markdown",
   "id": "0d093000-5488-4727-9202-d80db52b4436",
   "metadata": {
    "slideshow": {
     "slide_type": "fragment"
    },
    "tags": []
   },
   "source": [
    "ALSO: We need to **automate** as much of this as possible!"
   ]
  },
  {
   "cell_type": "markdown",
   "id": "726c2b3f-194c-4a2a-9286-ba7c3041e797",
   "metadata": {
    "slideshow": {
     "slide_type": "slide"
    },
    "tags": []
   },
   "source": [
    "# Comparison to Code Review"
   ]
  },
  {
   "cell_type": "markdown",
   "id": "454ef9c4-083a-4d5d-9bda-6b05aca5ef97",
   "metadata": {
    "slideshow": {
     "slide_type": "slide"
    },
    "tags": []
   },
   "source": [
    "# Why do we Review _Code_?\n",
    "\n",
    "- More 👀 on code to spot bugs and potential issues\n",
    "- Pull Requests create a record of changes/commits and also (ideally) documentation of changes, design decisions, trade-offs, etc.\n",
    "- Knowledge sharing between teammates"
   ]
  },
  {
   "cell_type": "markdown",
   "id": "cc34ef85-a8ff-4c31-b552-5094daa8592b",
   "metadata": {
    "slideshow": {
     "slide_type": "slide"
    },
    "tags": []
   },
   "source": [
    "# Code vs Model Review _Similarities_\n",
    "\n",
    "There is code involved."
   ]
  },
  {
   "cell_type": "markdown",
   "id": "cbc7b7fa-8651-48f7-995a-08834b29d213",
   "metadata": {
    "slideshow": {
     "slide_type": "slide"
    },
    "tags": []
   },
   "source": [
    "# Code vs Model Review _Differences_\n",
    "\n",
    "- There is a lot of context beyond the Code Used to train a model\n",
    "  - data, including any transformations\n",
    "  - performance\n",
    "  - entire ML process, including all your failed experiments\n",
    "- We can't really review a model _just_ by reading the final code\n",
    "- Where to record async review comments? (GitHub not really a good fit for this)"
   ]
  },
  {
   "cell_type": "markdown",
   "id": "81e98b7b-a351-46d2-8f5e-17f79a5a6ad1",
   "metadata": {
    "slideshow": {
     "slide_type": "notes"
    },
    "tags": []
   },
   "source": [
    "---\n",
    "\n",
    "**BEGIN MLFLOW TUTORIAL SECTION**\n",
    "\n",
    "---"
   ]
  },
  {
   "cell_type": "markdown",
   "id": "6a754d9d-1724-4fb1-b188-96efbffa80e4",
   "metadata": {
    "slideshow": {
     "slide_type": "slide"
    },
    "tags": []
   },
   "source": [
    "# What is MLflow?\n",
    "\n",
    "\"Open source platform for managing the end-to-end machine learning lifecycle\"\n",
    "\n",
    "<img src=\"img/mlflow_products.png\" style=\"width: 500px; padding: 0px 0px 0px 150px;\">\n",
    "\n",
    "Language & library agnostic: includes APIs for Python, R, Java, but everything is accessible throuh a REST API & CLI, so it's very flexible for difference use cases."
   ]
  },
  {
   "cell_type": "markdown",
   "id": "25534ed5-566b-4121-8bc1-0b0832511dd6",
   "metadata": {
    "slideshow": {
     "slide_type": "fragment"
    },
    "tags": []
   },
   "source": [
    "### `$ pip install mlflow`"
   ]
  },
  {
   "cell_type": "markdown",
   "id": "31d7490c-9f92-4f5e-a2fc-61308b8b53fd",
   "metadata": {
    "slideshow": {
     "slide_type": "slide"
    },
    "tags": []
   },
   "source": [
    "# MLflow Tracking\n",
    "\n",
    "Easily log almost anything you want to keep track of:\n",
    "- parameters\n",
    "- metrics\n",
    "- arbitrary files (\"artifacts\" in mlflow)\n",
    "  - such as plots, output files, Jupyter notebooks...\n",
    "- code version"
   ]
  },
  {
   "cell_type": "markdown",
   "id": "ec1ffafe-8887-4853-ab18-fd952f9be036",
   "metadata": {
    "slideshow": {
     "slide_type": "slide"
    },
    "tags": []
   },
   "source": [
    "# First Example"
   ]
  },
  {
   "cell_type": "code",
   "execution_count": 1,
   "id": "5c22aa56-f983-49d1-987e-989327847690",
   "metadata": {
    "tags": []
   },
   "outputs": [],
   "source": [
    "import mlflow\n",
    "\n",
    "mlflow.log_param('my_parameter', 4)  # run starts automatically\n",
    "mlflow.log_metric('score', 100)\n",
    "mlflow.end_run()"
   ]
  },
  {
   "cell_type": "markdown",
   "id": "14b1f0ab-a10b-4326-993d-57e3dbaa3958",
   "metadata": {
    "slideshow": {
     "slide_type": "slide"
    },
    "tags": []
   },
   "source": [
    "<img src=\"img/mlflow_tracking.jpeg\" style=\"width: 1000px;\">"
   ]
  },
  {
   "cell_type": "markdown",
   "id": "806716f1-73a6-495a-94bd-d38c3491cb64",
   "metadata": {
    "slideshow": {
     "slide_type": "slide"
    },
    "tags": []
   },
   "source": [
    "# MLflow Tracking UI\n",
    "\n",
    "```bash\n",
    "$ mlflow ui\n",
    "\n",
    "[2021-11-26 10:15:48 -0700] [19408] [INFO] Starting gunicorn 20.1.0\n",
    "[2021-11-26 10:15:48 -0700] [19408] [INFO] Listening at: http://127.0.0.1:5000 (19408)\n",
    "[2021-11-26 10:15:48 -0700] [19408] [INFO] Using worker: sync\n",
    "[2021-11-26 10:15:48 -0700] [19411] [INFO] Booting worker with pid: 19411\n",
    "```\n",
    "\n"
   ]
  },
  {
   "cell_type": "markdown",
   "id": "b5b44c9e-171a-4b26-b6e2-cf553efc6c60",
   "metadata": {
    "slideshow": {
     "slide_type": "fragment"
    },
    "tags": []
   },
   "source": [
    "\n",
    "\n",
    "$\\rightarrow$ Go to http://127.0.0.1:5000 in your browser..."
   ]
  },
  {
   "cell_type": "markdown",
   "id": "f9c3a4f4-0b64-4265-8f2d-18b2d4aa86eb",
   "metadata": {
    "slideshow": {
     "slide_type": "slide"
    },
    "tags": []
   },
   "source": [
    "![img](img/ui_00.png)"
   ]
  },
  {
   "cell_type": "markdown",
   "id": "16facc49-48c3-4a4b-b375-22f12d3a284f",
   "metadata": {
    "slideshow": {
     "slide_type": "slide"
    },
    "tags": []
   },
   "source": [
    "![img](img/ui_01.png)"
   ]
  },
  {
   "cell_type": "markdown",
   "id": "7f323614-0f9f-4f27-be5b-73d53e828b16",
   "metadata": {
    "slideshow": {
     "slide_type": "slide"
    },
    "tags": []
   },
   "source": [
    "# Logging Artifacts"
   ]
  },
  {
   "cell_type": "code",
   "execution_count": 2,
   "id": "1fe5cb32-9589-44b4-8dc3-8e5c44e410f2",
   "metadata": {},
   "outputs": [],
   "source": [
    "import mlflow\n",
    "\n",
    "# explicitly start the run to give it a nice name\n",
    "mlflow.start_run(run_name='log-artifacts')\n",
    "\n",
    "mlflow.log_param('my_parameter', 3)\n",
    "mlflow.log_metric('score', 95)\n",
    "\n",
    "with open('my_artifact.txt', 'w') as f:\n",
    "    f.write('This is the contents of a file to be logged.')\n",
    "\n",
    "mlflow.log_artifact('my_artifact.txt')\n",
    "\n",
    "mlflow.end_run()"
   ]
  },
  {
   "cell_type": "markdown",
   "id": "a284fd1b-d1cc-4f80-bec3-4db782364051",
   "metadata": {
    "slideshow": {
     "slide_type": "slide"
    },
    "tags": []
   },
   "source": [
    "![img](img/ui_02.png)"
   ]
  },
  {
   "cell_type": "markdown",
   "id": "8e2ba5c7-fbf2-4afb-8bce-06f477b6bd91",
   "metadata": {
    "slideshow": {
     "slide_type": "slide"
    },
    "tags": []
   },
   "source": [
    "![img](img/ui_03.png)"
   ]
  },
  {
   "cell_type": "markdown",
   "id": "91610034-3158-4189-88b7-c5008edca613",
   "metadata": {
    "slideshow": {
     "slide_type": "slide"
    },
    "tags": []
   },
   "source": [
    "# Where MLflow data is stored\n",
    "\n",
    "By default your runs are recorded in files in a local `mlruns/` folder that gets created in your current working directory.\n",
    "\n",
    "Lots of other options for local and remote tracking (the latter is best for teams / sharing results) - see [MLflow docs](https://www.mlflow.org/docs/latest/tracking.html#how-runs-and-artifacts-are-recorded) for possibilities."
   ]
  },
  {
   "cell_type": "code",
   "execution_count": null,
   "id": "9c641e85-295d-468f-ac34-258270f9eef3",
   "metadata": {},
   "outputs": [
    {
     "name": "stdout",
     "output_type": "stream",
     "text": [
      "\u001b[36m0767d058f4c34495901426d10fd4d8b0\u001b[m\u001b[m/ \u001b[36m8aed6175a12a4d9aa604525ecb827052\u001b[m\u001b[m/\n",
      "\u001b[36m0f17168342454ea2bdda87d4fd1d1f65\u001b[m\u001b[m/ \u001b[36m8fc7a40d65e1423f8fa50c47b833ba3c\u001b[m\u001b[m/\n",
      "\u001b[36m11a2e6a9f5154cd29b90de0af0d2fce9\u001b[m\u001b[m/ \u001b[36m90119ea2c87948edb1f60051899347b5\u001b[m\u001b[m/\n",
      "\u001b[36m13c6ab5097af4f018a147387f6405f71\u001b[m\u001b[m/ \u001b[36m9628d015b1d642d2af1a5b3a74ac7907\u001b[m\u001b[m/\n",
      "\u001b[36m16ea0a4a5696440694f679f100236a8a\u001b[m\u001b[m/ \u001b[36m9bf80a0dc7634fdd9f515f713617014d\u001b[m\u001b[m/\n",
      "\u001b[36m2175a59ec45d41869ef261333e718cc1\u001b[m\u001b[m/ \u001b[36m9d50d41fedd6456cb8e967c45083100d\u001b[m\u001b[m/\n",
      "\u001b[36m32c963b60c21400d86d2812996514fd4\u001b[m\u001b[m/ \u001b[36ma07e07ea0464403290ac30d3a54aac35\u001b[m\u001b[m/\n",
      "\u001b[36m34f88761623a4595ab12c2465990dc46\u001b[m\u001b[m/ \u001b[36ma2df78ca0a7c454fb2f43431245b3de6\u001b[m\u001b[m/\n",
      "\u001b[36m360f48f82d954f32a97216d78a7993dc\u001b[m\u001b[m/ \u001b[36mb0fa1b8afaf04251b4a1a7d60dc7b6af\u001b[m\u001b[m/\n",
      "\u001b[36m3a596c86d00d4bffa42ccea0b4278acf\u001b[m\u001b[m/ \u001b[36mb9381aa31897493c993fc6f6b44315d6\u001b[m\u001b[m/\n",
      "\u001b[36m442e6ad85264445cae3995aa2455e67d\u001b[m\u001b[m/ \u001b[36mbb82e09018b4473dbc774b5e30331982\u001b[m\u001b[m/\n",
      "\u001b[36m4945df8bcbfb4a07b0aa554599006449\u001b[m\u001b[m/ \u001b[36mbea747614d4a4b2fb113e8758571da84\u001b[m\u001b[m/\n",
      "\u001b[36m4bc140c1dc8244ba8a00803deded9294\u001b[m\u001b[m/ \u001b[36mc1abcae77f4c4c08b3c28c06ae9e0302\u001b[m\u001b[m/\n",
      "\u001b[36m4f1bd37aa3694b3eae70b6e21f399842\u001b[m\u001b[m/ \u001b[36md2e995d08f1e4c03939a9ffee9bed3bb\u001b[m\u001b[m/\n",
      "\u001b[36m51be517d1ec647edbeeaecc7c555c086\u001b[m\u001b[m/ \u001b[36me5eaddb0c6184bc5bfe2520226056963\u001b[m\u001b[m/\n",
      "\u001b[36m631328d8fb834eab9945c615d340b733\u001b[m\u001b[m/ \u001b[36me9ae149ab7824a03bb7c27c93c0acd51\u001b[m\u001b[m/\n",
      "\u001b[36m667bb121c08a4ca78395b350f416e464\u001b[m\u001b[m/ \u001b[36mf049e00a0bd646848b3cb42b39b9830d\u001b[m\u001b[m/\n",
      "\u001b[36m68ea8f880a0b4725b9d675bd8d9b31f3\u001b[m\u001b[m/ \u001b[36mf4fff08dee5a4ad29a69f6317863c711\u001b[m\u001b[m/\n",
      "\u001b[36m6ed23a2db3e441378a5462d331b21fd6\u001b[m\u001b[m/ \u001b[36mf50c1df28e8d4703b93254100dc7eaa0\u001b[m\u001b[m/\n",
      "\u001b[36m6ee8190999c146bc8cafc153f14e5734\u001b[m\u001b[m/ \u001b[36mf5b049c25c2245a1a8b7f8a5d8903ceb\u001b[m\u001b[m/\n",
      "\u001b[36m75d23c0313ab4f63a0a8dcd1b4e8db05\u001b[m\u001b[m/ meta.yaml\n"
     ]
    }
   ],
   "source": [
    "ls mlruns/"
   ]
  },
  {
   "cell_type": "markdown",
   "id": "57ccbe0c-12f0-45a0-a9e9-b359de90f870",
   "metadata": {
    "slideshow": {
     "slide_type": "slide"
    },
    "tags": []
   },
   "source": [
    "# Not just for ML!\n",
    "\n",
    "Notice that nothing we've done so far has been ML specific!\n",
    "\n",
    "You could use MLFlow Tracking for kind of any analyses or projects where you find yourself manually recording values."
   ]
  },
  {
   "cell_type": "markdown",
   "id": "391af743-d125-4762-974f-fa013aaf9d21",
   "metadata": {
    "slideshow": {
     "slide_type": "notes"
    },
    "tags": []
   },
   "source": [
    "_(example: at a previous job, people recorded results of model training in a spreadsheet. They had scripts to automate populating this spreadsheet, but it still involved more overhead and was more error prone than MLflow's tracking)_"
   ]
  },
  {
   "cell_type": "markdown",
   "id": "aab5a884-f781-42c1-8100-15f73373b37e",
   "metadata": {
    "slideshow": {
     "slide_type": "slide"
    },
    "tags": []
   },
   "source": [
    "# Tracking your ML Model"
   ]
  },
  {
   "cell_type": "code",
   "execution_count": 3,
   "id": "5ca4fe8b-dc89-4e52-a06b-49e5180efd45",
   "metadata": {},
   "outputs": [
    {
     "name": "stderr",
     "output_type": "stream",
     "text": [
      "/Users/jesford/anaconda3/envs/mlflow-demo/lib/python3.7/site-packages/sklearn/linear_model/_logistic.py:818: ConvergenceWarning: lbfgs failed to converge (status=1):\n",
      "STOP: TOTAL NO. of ITERATIONS REACHED LIMIT.\n",
      "\n",
      "Increase the number of iterations (max_iter) or scale the data as shown in:\n",
      "    https://scikit-learn.org/stable/modules/preprocessing.html\n",
      "Please also refer to the documentation for alternative solver options:\n",
      "    https://scikit-learn.org/stable/modules/linear_model.html#logistic-regression\n",
      "  extra_warning_msg=_LOGISTIC_SOLVER_CONVERGENCE_MSG,\n"
     ]
    },
    {
     "data": {
      "image/png": "[encoded data removed]",
      "text/plain": [
       "<Figure size 432x288 with 1 Axes>"
      ]
     },
     "metadata": {
      "needs_background": "light"
     },
     "output_type": "display_data"
    }
   ],
   "source": [
    "import mlflow\n",
    "import matplotlib.pyplot as plt\n",
    "from sklearn.linear_model import LogisticRegression\n",
    "from sklearn.metrics import accuracy_score, PrecisionRecallDisplay\n",
    "from sklearn.model_selection import train_test_split\n",
    "from sklearn.datasets import load_wine\n",
    "\n",
    "# load and prepare data\n",
    "data = load_wine()\n",
    "binary_target = (data.target == 0).astype(int)\n",
    "X_train, X_test, y_train, y_test = train_test_split(\n",
    "    data.data, binary_target, test_size=0.33, shuffle=True, random_state=0,\n",
    ")\n",
    "\n",
    "with mlflow.start_run(run_name='wine-logreg'):  # use context manager instead of start/end run\n",
    "\n",
    "    # fit a model with certain hyperparameters\n",
    "    penalty = 'l2'\n",
    "    max_iter = 10\n",
    "    clf = LogisticRegression(penalty=penalty, max_iter=max_iter)\n",
    "    clf.fit(X_train, y_train)\n",
    "    \n",
    "    # get predictions\n",
    "    y_train_pred = clf.predict(X_train)\n",
    "    y_test_pred = clf.predict(X_test)\n",
    "    y_test_predprob = clf.predict_proba(X_test)[:, 1]\n",
    "\n",
    "    # make a plot\n",
    "    fig, ax = plt.subplots(1, 1)\n",
    "    PrecisionRecallDisplay.from_predictions(y_test, y_test_predprob, ax=ax)\n",
    "    fig.savefig('PR.png')\n",
    "\n",
    "    # track all the things\n",
    "    mlflow.log_params({'penalty': penalty, 'max_iter': max_iter})\n",
    "    mlflow.log_metric('acc', accuracy_score(y_train, y_train_pred))\n",
    "    mlflow.log_metric('val_acc', accuracy_score(y_test, y_test_pred))\n",
    "    mlflow.log_artifact('PR.png')\n",
    "    mlflow.log_artifact('tutorial.ipynb')\n",
    "    mlflow.sklearn.log_model(clf, 'model')"
   ]
  },
  {
   "cell_type": "markdown",
   "id": "7669c4f7-6e0e-4381-bf00-bbf640d6dc5f",
   "metadata": {
    "slideshow": {
     "slide_type": "slide"
    },
    "tags": []
   },
   "source": [
    "![img](img/ui_04.png)"
   ]
  },
  {
   "cell_type": "markdown",
   "id": "51ba8754-5666-46e5-b810-fb40769d8f3a",
   "metadata": {
    "tags": []
   },
   "source": [
    "![img](img/ui_05.png)"
   ]
  },
  {
   "cell_type": "markdown",
   "id": "36ec289a-f6fe-4691-9be5-05c2eced1b3d",
   "metadata": {},
   "source": [
    "![img](img/ui_06.png)"
   ]
  },
  {
   "cell_type": "markdown",
   "id": "ecf07534-fbc6-4c4e-abcd-50134dd22f7b",
   "metadata": {
    "tags": []
   },
   "source": [
    "### MLflow provides code snippets for loading & using the trained model via the mlflow API"
   ]
  },
  {
   "cell_type": "markdown",
   "id": "cd94202e-aa1e-436a-a237-95d085765c9a",
   "metadata": {
    "slideshow": {
     "slide_type": "slide"
    },
    "tags": []
   },
   "source": [
    "![img](img/ui_07.png)"
   ]
  },
  {
   "cell_type": "markdown",
   "id": "86e0e7b8-e4f9-45e8-b140-6c0acce732ee",
   "metadata": {
    "slideshow": {
     "slide_type": "slide"
    },
    "tags": []
   },
   "source": [
    "# Autologging Model Training"
   ]
  },
  {
   "cell_type": "markdown",
   "id": "9073672a-2abd-4bf0-b6e7-539ef5bae5b3",
   "metadata": {
    "slideshow": {
     "slide_type": "fragment"
    },
    "tags": []
   },
   "source": [
    "A single line of code will automatically tracks lots of useful things about your model, metrics, plots.\n",
    "\n",
    "Supported for `scikit-learn`, `tensorflow` & `keras`, `pytorch`, `xgboost`, and more.\n",
    "\n",
    "_Note:_ this is an \"experimental\" feature in MLflow!"
   ]
  },
  {
   "cell_type": "markdown",
   "id": "7cb7440a-71ee-4b4e-93a5-bb2d6ac4d256",
   "metadata": {
    "slideshow": {
     "slide_type": "slide"
    },
    "tags": []
   },
   "source": [
    "# Load & Prepare a Real World Dataset\n",
    "\n",
    "[\"20 Newsgroups\" dataset](http://qwone.com/~jason/20Newsgroups/): text documents containing discussions of 20 different topics.\n",
    "\n",
    "We'll just use 2 of these topics and build a binary classifier to distinguish between text that is about baseball vs hockey."
   ]
  },
  {
   "cell_type": "code",
   "execution_count": 4,
   "id": "4108a633-730f-4dc1-988a-4cbda7138cec",
   "metadata": {
    "slideshow": {
     "slide_type": "fragment"
    },
    "tags": []
   },
   "outputs": [
    {
     "name": "stdout",
     "output_type": "stream",
     "text": [
      "Training set size after TF-IDF transform: (1197, 5000)\n",
      "\n",
      "Example document:\n",
      "\n",
      "From: dougb@comm.mot.com (Doug Bank)\n",
      "Subject: Re: Info needed for Cleveland tickets\n",
      "Reply-To: dougb@ecs.comm.mot.com\n",
      "Organization: Motorola Land Mobile Products Sector\n",
      "Distribution: usa\n",
      "Nntp-Posting-Host: 145.1.146.35\n",
      "Lines: 17\n",
      "\n",
      "In article <1993Apr1.234031.4950@leland.Stanford.EDU>, bohnert@leland.Stanford.EDU (matthew bohnert) writes:\n",
      "\n",
      "|> I'm going to be in Cleveland Thursday, April 15 to Sunday, April 18.\n",
      "|> Does anybody know if the Tribe will be in town on those dates, and\n",
      "|> if so, who're they playing and if tickets are available?\n",
      "\n",
      "The tribe will be in town from April 16 to the 19th.\n",
      "There are ALWAYS tickets available! (Though they are playing Toronto,\n",
      "and many Toronto fans make the trip to Cleveland as it is easier to\n",
      "get tickets in Cleveland than in Toronto.  Either way, I seriously\n",
      "doubt they will sell out until the end of the season.)\n",
      "\n",
      "-- \n",
      "Doug Bank                       Private Systems Division\n",
      "dougb@ecs.comm.mot.com          Motorola Communications Sector\n",
      "dougb@nwu.edu                   Schaumburg, Illinois\n",
      "dougb@casbah.acns.nwu.edu       708-576-8207                    \n",
      "\n"
     ]
    }
   ],
   "source": [
    "from sklearn.datasets import fetch_20newsgroups\n",
    "from sklearn.feature_extraction.text import TfidfVectorizer\n",
    "\n",
    "# load train and test data for 2 categories\n",
    "categories_to_classify = ['rec.sport.baseball', 'rec.sport.hockey']\n",
    "X_train_raw, y_train = fetch_20newsgroups(\n",
    "    subset='train', categories=categories_to_classify, return_X_y=True\n",
    ")\n",
    "X_test_raw, y_test = fetch_20newsgroups(\n",
    "    subset='test', categories=categories_to_classify, return_X_y=True\n",
    ")\n",
    "# turn the text into numbers\n",
    "vectorizer = TfidfVectorizer(max_features=5000)\n",
    "X_train = vectorizer.fit_transform(X_train_raw).todense()\n",
    "X_test = vectorizer.transform(X_test_raw).todense()\n",
    "\n",
    "print('Training set size after TF-IDF transform: {}'.format(X_train.shape))\n",
    "print('\\nExample document:\\n\\n{}'.format(X_train_raw[0]))"
   ]
  },
  {
   "cell_type": "markdown",
   "id": "5eb37108-27d0-48da-8f67-6fdceb3a53de",
   "metadata": {
    "slideshow": {
     "slide_type": "slide"
    },
    "tags": []
   },
   "source": [
    "# Autologging Example 1: `sklearn`"
   ]
  },
  {
   "cell_type": "code",
   "execution_count": 5,
   "id": "d4402675-0596-4cdb-b851-6fa3fa34daa1",
   "metadata": {},
   "outputs": [
    {
     "name": "stderr",
     "output_type": "stream",
     "text": [
      "2021/11/27 15:57:24 WARNING mlflow.utils.autologging_utils: You are using an unsupported version of sklearn. If you encounter errors during autologging, try upgrading / downgrading sklearn to a supported version, or try upgrading MLflow.\n",
      "2021/11/27 15:57:24 INFO mlflow.utils.autologging_utils: Created MLflow autologging run with ID '0767d058f4c34495901426d10fd4d8b0', which will track hyperparameters, performance metrics, model artifacts, and lineage information for the current sklearn workflow\n",
      "/Users/jesford/anaconda3/envs/mlflow-demo/lib/python3.7/site-packages/sklearn/utils/validation.py:590: FutureWarning: np.matrix usage is deprecated in 1.0 and will raise a TypeError in 1.2. Please convert to a numpy array with np.asarray. For more information see: https://numpy.org/doc/stable/reference/generated/numpy.matrix.html\n",
      "  FutureWarning,\n",
      "/Users/jesford/anaconda3/envs/mlflow-demo/lib/python3.7/site-packages/sklearn/utils/validation.py:590: FutureWarning: np.matrix usage is deprecated in 1.0 and will raise a TypeError in 1.2. Please convert to a numpy array with np.asarray. For more information see: https://numpy.org/doc/stable/reference/generated/numpy.matrix.html\n",
      "  FutureWarning,\n",
      "/Users/jesford/anaconda3/envs/mlflow-demo/lib/python3.7/site-packages/sklearn/utils/validation.py:590: FutureWarning: np.matrix usage is deprecated in 1.0 and will raise a TypeError in 1.2. Please convert to a numpy array with np.asarray. For more information see: https://numpy.org/doc/stable/reference/generated/numpy.matrix.html\n",
      "  FutureWarning,\n",
      "2021/11/27 15:57:25 WARNING mlflow.utils.autologging_utils: MLflow autologging encountered a warning: \"/Users/jesford/anaconda3/envs/mlflow-demo/lib/python3.7/site-packages/sklearn/utils/deprecation.py:87: FutureWarning: Function plot_confusion_matrix is deprecated; Function `plot_confusion_matrix` is deprecated in 1.0 and will be removed in 1.2. Use one of the class methods: ConfusionMatrixDisplay.from_predictions or ConfusionMatrixDisplay.from_estimator.\"\n",
      "/Users/jesford/anaconda3/envs/mlflow-demo/lib/python3.7/site-packages/sklearn/utils/validation.py:590: FutureWarning: np.matrix usage is deprecated in 1.0 and will raise a TypeError in 1.2. Please convert to a numpy array with np.asarray. For more information see: https://numpy.org/doc/stable/reference/generated/numpy.matrix.html\n",
      "  FutureWarning,\n",
      "2021/11/27 15:57:25 WARNING mlflow.utils.autologging_utils: MLflow autologging encountered a warning: \"/Users/jesford/anaconda3/envs/mlflow-demo/lib/python3.7/site-packages/sklearn/utils/deprecation.py:87: FutureWarning: Function plot_roc_curve is deprecated; Function `plot_roc_curve` is deprecated in 1.0 and will be removed in 1.2. Use one of the class methods: RocCurveDisplay.from_predictions or RocCurveDisplay.from_estimator.\"\n",
      "/Users/jesford/anaconda3/envs/mlflow-demo/lib/python3.7/site-packages/sklearn/utils/validation.py:590: FutureWarning: np.matrix usage is deprecated in 1.0 and will raise a TypeError in 1.2. Please convert to a numpy array with np.asarray. For more information see: https://numpy.org/doc/stable/reference/generated/numpy.matrix.html\n",
      "  FutureWarning,\n",
      "2021/11/27 15:57:25 WARNING mlflow.utils.autologging_utils: MLflow autologging encountered a warning: \"/Users/jesford/anaconda3/envs/mlflow-demo/lib/python3.7/site-packages/sklearn/utils/deprecation.py:87: FutureWarning: Function plot_precision_recall_curve is deprecated; Function `plot_precision_recall_curve` is deprecated in 1.0 and will be removed in 1.2. Use one of the class methods: PrecisionRecallDisplay.from_predictions or PrecisionRecallDisplay.from_estimator.\"\n",
      "/Users/jesford/anaconda3/envs/mlflow-demo/lib/python3.7/site-packages/sklearn/utils/validation.py:590: FutureWarning: np.matrix usage is deprecated in 1.0 and will raise a TypeError in 1.2. Please convert to a numpy array with np.asarray. For more information see: https://numpy.org/doc/stable/reference/generated/numpy.matrix.html\n",
      "  FutureWarning,\n",
      "/Users/jesford/anaconda3/envs/mlflow-demo/lib/python3.7/site-packages/sklearn/utils/validation.py:590: FutureWarning: np.matrix usage is deprecated in 1.0 and will raise a TypeError in 1.2. Please convert to a numpy array with np.asarray. For more information see: https://numpy.org/doc/stable/reference/generated/numpy.matrix.html\n",
      "  FutureWarning,\n",
      "/Users/jesford/anaconda3/envs/mlflow-demo/lib/python3.7/site-packages/sklearn/utils/validation.py:590: FutureWarning: np.matrix usage is deprecated in 1.0 and will raise a TypeError in 1.2. Please convert to a numpy array with np.asarray. For more information see: https://numpy.org/doc/stable/reference/generated/numpy.matrix.html\n",
      "  FutureWarning,\n"
     ]
    },
    {
     "data": {
      "text/plain": [
       "RandomForestClassifier(n_estimators=10)"
      ]
     },
     "execution_count": 5,
     "metadata": {},
     "output_type": "execute_result"
    }
   ],
   "source": [
    "from sklearn.ensemble import RandomForestClassifier\n",
    "\n",
    "mlflow.sklearn.autolog()  # just one line added!\n",
    "\n",
    "rfc = RandomForestClassifier(n_estimators=10)\n",
    "rfc.fit(X_train, y_train)"
   ]
  },
  {
   "cell_type": "markdown",
   "id": "134478eb-2bc1-4bc9-b5f3-2069d0671f00",
   "metadata": {
    "slideshow": {
     "slide_type": "slide"
    },
    "tags": []
   },
   "source": [
    "# Back in the MLflow UI...\n",
    "\n",
    "![img](img/ui_08.png)"
   ]
  },
  {
   "cell_type": "markdown",
   "id": "a99b2cab-d542-4eae-adab-8a8024073767",
   "metadata": {},
   "source": [
    "![img](img/ui_09.png)"
   ]
  },
  {
   "cell_type": "markdown",
   "id": "9d26c70b-4c05-4ca4-b0a0-75130d33e4c1",
   "metadata": {
    "tags": []
   },
   "source": [
    "### We see all RF hyperparameters (even those we didn't set explicitly) are recorded...\n",
    "\n",
    "... as well as some default training metrics (would have to log validation metrics manually since `.fit` doesn't know about them)\n",
    "\n",
    "... and we get some really useful plots out of the box!"
   ]
  },
  {
   "cell_type": "markdown",
   "id": "8a0ff76e-e34b-49e2-9cc4-d353c09df2b6",
   "metadata": {},
   "source": [
    "![img](img/ui_10.png)"
   ]
  },
  {
   "cell_type": "markdown",
   "id": "95afcaf1-b67f-42f5-b0f0-4a846c7b2c8c",
   "metadata": {
    "slideshow": {
     "slide_type": "slide"
    },
    "tags": []
   },
   "source": [
    "# Autologging Example 2: `tensorflow.keras`"
   ]
  },
  {
   "cell_type": "code",
   "execution_count": 6,
   "id": "8b4e9616-2402-41e7-b54e-597462830916",
   "metadata": {},
   "outputs": [
    {
     "name": "stderr",
     "output_type": "stream",
     "text": [
      "2021-11-27 15:57:29.940299: I tensorflow/core/platform/cpu_feature_guard.cc:145] This TensorFlow binary is optimized with Intel(R) MKL-DNN to use the following CPU instructions in performance critical operations:  SSE4.1 SSE4.2 AVX AVX2 FMA\n",
      "To enable them in non-MKL-DNN operations, rebuild TensorFlow with the appropriate compiler flags.\n",
      "2021-11-27 15:57:29.940539: I tensorflow/core/common_runtime/process_util.cc:115] Creating new thread pool with default inter op setting: 4. Tune using inter_op_parallelism_threads for best performance.\n"
     ]
    },
    {
     "name": "stdout",
     "output_type": "stream",
     "text": [
      "Train on 1197 samples, validate on 796 samples\n",
      "Epoch 1/40\n",
      " 864/1197 [====================>.........] - ETA: 1s - loss: 0.6932 - binary_accuracy: 0.5000 - AUROC: 0.4967"
     ]
    },
    {
     "name": "stderr",
     "output_type": "stream",
     "text": [
      "2021-11-27 15:57:32.775138: I tensorflow/core/profiler/lib/profiler_session.cc:184] Profiler session started.\n"
     ]
    },
    {
     "name": "stdout",
     "output_type": "stream",
     "text": [
      "1197/1197 [==============================] - 3s 3ms/sample - loss: 0.6927 - binary_accuracy: 0.5138 - AUROC: 0.5178 - val_loss: 0.6923 - val_binary_accuracy: 0.5038 - val_AUROC: 0.5648\n",
      "Epoch 2/40\n",
      "1197/1197 [==============================] - 0s 407us/sample - loss: 0.6885 - binary_accuracy: 0.5556 - AUROC: 0.6514 - val_loss: 0.6881 - val_binary_accuracy: 0.6583 - val_AUROC: 0.7370\n",
      "Epoch 3/40\n",
      "1197/1197 [==============================] - 1s 508us/sample - loss: 0.6823 - binary_accuracy: 0.6942 - AUROC: 0.8035 - val_loss: 0.6834 - val_binary_accuracy: 0.6118 - val_AUROC: 0.8632\n",
      "Epoch 4/40\n",
      "1197/1197 [==============================] - 0s 372us/sample - loss: 0.6742 - binary_accuracy: 0.7853 - AUROC: 0.8988 - val_loss: 0.6772 - val_binary_accuracy: 0.6093 - val_AUROC: 0.9249\n",
      "Epoch 5/40\n",
      "1197/1197 [==============================] - 1s 477us/sample - loss: 0.6647 - binary_accuracy: 0.8755 - AUROC: 0.9448 - val_loss: 0.6685 - val_binary_accuracy: 0.8894 - val_AUROC: 0.9536\n",
      "Epoch 6/40\n",
      "1197/1197 [==============================] - 1s 500us/sample - loss: 0.6514 - binary_accuracy: 0.8881 - AUROC: 0.9638 - val_loss: 0.6623 - val_binary_accuracy: 0.5239 - val_AUROC: 0.9693\n",
      "Epoch 7/40\n",
      "1197/1197 [==============================] - 1s 420us/sample - loss: 0.6381 - binary_accuracy: 0.8688 - AUROC: 0.9742 - val_loss: 0.6469 - val_binary_accuracy: 0.9146 - val_AUROC: 0.9752\n",
      "Epoch 8/40\n",
      "1197/1197 [==============================] - 0s 333us/sample - loss: 0.6185 - binary_accuracy: 0.9206 - AUROC: 0.9831 - val_loss: 0.6327 - val_binary_accuracy: 0.9058 - val_AUROC: 0.9774\n",
      "Epoch 9/40\n",
      "1197/1197 [==============================] - 1s 492us/sample - loss: 0.5967 - binary_accuracy: 0.9532 - AUROC: 0.9926 - val_loss: 0.6161 - val_binary_accuracy: 0.8555 - val_AUROC: 0.9809\n",
      "Epoch 10/40\n",
      "1197/1197 [==============================] - 1s 440us/sample - loss: 0.5707 - binary_accuracy: 0.9674 - AUROC: 0.9948 - val_loss: 0.5978 - val_binary_accuracy: 0.8028 - val_AUROC: 0.9823\n",
      "Epoch 11/40\n",
      "1197/1197 [==============================] - 0s 341us/sample - loss: 0.5412 - binary_accuracy: 0.9524 - AUROC: 0.9939 - val_loss: 0.5704 - val_binary_accuracy: 0.9384 - val_AUROC: 0.9830\n",
      "Epoch 12/40\n",
      "1197/1197 [==============================] - 0s 388us/sample - loss: 0.5076 - binary_accuracy: 0.9657 - AUROC: 0.9961 - val_loss: 0.5457 - val_binary_accuracy: 0.9196 - val_AUROC: 0.9838\n",
      "Epoch 13/40\n",
      "1197/1197 [==============================] - 1s 698us/sample - loss: 0.4711 - binary_accuracy: 0.9716 - AUROC: 0.9959 - val_loss: 0.5161 - val_binary_accuracy: 0.9121 - val_AUROC: 0.9851\n",
      "Epoch 14/40\n",
      "1197/1197 [==============================] - 1s 433us/sample - loss: 0.4323 - binary_accuracy: 0.9758 - AUROC: 0.9974 - val_loss: 0.4851 - val_binary_accuracy: 0.9460 - val_AUROC: 0.9856\n",
      "Epoch 15/40\n",
      "1197/1197 [==============================] - 0s 410us/sample - loss: 0.3947 - binary_accuracy: 0.9733 - AUROC: 0.9979 - val_loss: 0.4630 - val_binary_accuracy: 0.9146 - val_AUROC: 0.9860\n",
      "Epoch 16/40\n",
      "1197/1197 [==============================] - 0s 363us/sample - loss: 0.3588 - binary_accuracy: 0.9816 - AUROC: 0.9980 - val_loss: 0.4260 - val_binary_accuracy: 0.9472 - val_AUROC: 0.9869\n",
      "Epoch 17/40\n",
      "1197/1197 [==============================] - 1s 446us/sample - loss: 0.3230 - binary_accuracy: 0.9766 - AUROC: 0.9985 - val_loss: 0.4081 - val_binary_accuracy: 0.9008 - val_AUROC: 0.9875\n",
      "Epoch 18/40\n",
      "1197/1197 [==============================] - 0s 387us/sample - loss: 0.2933 - binary_accuracy: 0.9749 - AUROC: 0.9985 - val_loss: 0.3729 - val_binary_accuracy: 0.9485 - val_AUROC: 0.9880\n",
      "Epoch 19/40\n",
      "1197/1197 [==============================] - 1s 463us/sample - loss: 0.2642 - binary_accuracy: 0.9841 - AUROC: 0.9990 - val_loss: 0.3501 - val_binary_accuracy: 0.9497 - val_AUROC: 0.9886\n",
      "Epoch 20/40\n",
      "1197/1197 [==============================] - 1s 477us/sample - loss: 0.2397 - binary_accuracy: 0.9891 - AUROC: 0.9993 - val_loss: 0.3304 - val_binary_accuracy: 0.9485 - val_AUROC: 0.9891\n",
      "Epoch 21/40\n",
      "1197/1197 [==============================] - 0s 352us/sample - loss: 0.2165 - binary_accuracy: 0.9891 - AUROC: 0.9991 - val_loss: 0.3101 - val_binary_accuracy: 0.9447 - val_AUROC: 0.9896\n",
      "Epoch 22/40\n",
      "1197/1197 [==============================] - 0s 358us/sample - loss: 0.1968 - binary_accuracy: 0.9866 - AUROC: 0.9994 - val_loss: 0.3046 - val_binary_accuracy: 0.9234 - val_AUROC: 0.9900\n",
      "Epoch 23/40\n",
      "1197/1197 [==============================] - 0s 340us/sample - loss: 0.1788 - binary_accuracy: 0.9908 - AUROC: 0.9995 - val_loss: 0.2832 - val_binary_accuracy: 0.9560 - val_AUROC: 0.9903\n",
      "Epoch 24/40\n",
      "1197/1197 [==============================] - 0s 336us/sample - loss: 0.1649 - binary_accuracy: 0.9925 - AUROC: 0.9997 - val_loss: 0.2640 - val_binary_accuracy: 0.9523 - val_AUROC: 0.9906\n",
      "Epoch 25/40\n",
      "1197/1197 [==============================] - 0s 345us/sample - loss: 0.1516 - binary_accuracy: 0.9925 - AUROC: 0.9998 - val_loss: 0.2530 - val_binary_accuracy: 0.9447 - val_AUROC: 0.9908\n",
      "Epoch 26/40\n",
      "1197/1197 [==============================] - 0s 345us/sample - loss: 0.1405 - binary_accuracy: 0.9925 - AUROC: 0.9997 - val_loss: 0.2417 - val_binary_accuracy: 0.9485 - val_AUROC: 0.9911\n",
      "Epoch 27/40\n",
      "1197/1197 [==============================] - 0s 338us/sample - loss: 0.1293 - binary_accuracy: 0.9958 - AUROC: 0.9998 - val_loss: 0.2332 - val_binary_accuracy: 0.9598 - val_AUROC: 0.9914\n",
      "Epoch 28/40\n",
      "1197/1197 [==============================] - 0s 343us/sample - loss: 0.1208 - binary_accuracy: 0.9958 - AUROC: 0.9999 - val_loss: 0.2232 - val_binary_accuracy: 0.9485 - val_AUROC: 0.9917\n",
      "Epoch 29/40\n",
      "1197/1197 [==============================] - 0s 348us/sample - loss: 0.1122 - binary_accuracy: 0.9958 - AUROC: 0.9999 - val_loss: 0.2139 - val_binary_accuracy: 0.9548 - val_AUROC: 0.9919\n",
      "Epoch 30/40\n",
      "1197/1197 [==============================] - 1s 455us/sample - loss: 0.1047 - binary_accuracy: 0.9950 - AUROC: 0.9999 - val_loss: 0.2087 - val_binary_accuracy: 0.9472 - val_AUROC: 0.9921\n",
      "Epoch 31/40\n",
      "1197/1197 [==============================] - 0s 350us/sample - loss: 0.0978 - binary_accuracy: 0.9958 - AUROC: 0.9999 - val_loss: 0.2000 - val_binary_accuracy: 0.9560 - val_AUROC: 0.9923\n",
      "Epoch 32/40\n",
      "1197/1197 [==============================] - 1s 545us/sample - loss: 0.0923 - binary_accuracy: 0.9975 - AUROC: 0.9999 - val_loss: 0.1935 - val_binary_accuracy: 0.9560 - val_AUROC: 0.9926\n",
      "Epoch 33/40\n",
      "1197/1197 [==============================] - 0s 398us/sample - loss: 0.0867 - binary_accuracy: 0.9958 - AUROC: 1.0000 - val_loss: 0.1883 - val_binary_accuracy: 0.9560 - val_AUROC: 0.9928\n",
      "Epoch 34/40\n",
      "1197/1197 [==============================] - 1s 483us/sample - loss: 0.0816 - binary_accuracy: 0.9983 - AUROC: 1.0000 - val_loss: 0.1827 - val_binary_accuracy: 0.9585 - val_AUROC: 0.9930\n",
      "Epoch 35/40\n",
      "1197/1197 [==============================] - 1s 510us/sample - loss: 0.0768 - binary_accuracy: 0.9992 - AUROC: 1.0000 - val_loss: 0.1781 - val_binary_accuracy: 0.9548 - val_AUROC: 0.9931\n",
      "Epoch 36/40\n",
      "1197/1197 [==============================] - 1s 483us/sample - loss: 0.0729 - binary_accuracy: 0.9992 - AUROC: 1.0000 - val_loss: 0.1735 - val_binary_accuracy: 0.9585 - val_AUROC: 0.9933\n",
      "Epoch 37/40\n",
      "1197/1197 [==============================] - 1s 493us/sample - loss: 0.0689 - binary_accuracy: 0.9992 - AUROC: 1.0000 - val_loss: 0.1700 - val_binary_accuracy: 0.9648 - val_AUROC: 0.9934\n",
      "Epoch 38/40\n",
      "1197/1197 [==============================] - 1s 484us/sample - loss: 0.0659 - binary_accuracy: 0.9992 - AUROC: 1.0000 - val_loss: 0.1662 - val_binary_accuracy: 0.9648 - val_AUROC: 0.9935\n",
      "Epoch 39/40\n",
      "1197/1197 [==============================] - 1s 454us/sample - loss: 0.0616 - binary_accuracy: 0.9992 - AUROC: 1.0000 - val_loss: 0.1638 - val_binary_accuracy: 0.9636 - val_AUROC: 0.9936\n",
      "Epoch 40/40\n",
      "1197/1197 [==============================] - 1s 483us/sample - loss: 0.0591 - binary_accuracy: 0.9992 - AUROC: 1.0000 - val_loss: 0.1598 - val_binary_accuracy: 0.9661 - val_AUROC: 0.9938\n",
      "WARNING:tensorflow:From /Users/jesford/anaconda3/envs/mlflow-demo/lib/python3.7/site-packages/tensorflow_core/python/ops/resource_variable_ops.py:1781: calling BaseResourceVariable.__init__ (from tensorflow.python.ops.resource_variable_ops) with constraint is deprecated and will be removed in a future version.\n",
      "Instructions for updating:\n",
      "If using Keras pass *_constraint arguments to layers.\n"
     ]
    },
    {
     "name": "stderr",
     "output_type": "stream",
     "text": [
      "2021-11-27 15:57:54.053267: W tensorflow/python/util/util.cc:299] Sets are not currently considered sequences, but this may change in the future, so consider avoiding using them.\n"
     ]
    },
    {
     "name": "stdout",
     "output_type": "stream",
     "text": [
      "INFO:tensorflow:Assets written to: /var/folders/xv/48y52h7j27g9jp0vs5n4s8rc0000gn/T/tmph4l1rgnb/model/data/model/assets\n"
     ]
    }
   ],
   "source": [
    "import tensorflow as tf\n",
    "from tensorflow.keras import Input, Model, layers\n",
    "\n",
    "with mlflow.start_run(run_name='hockey-vs-baseball-NN'):\n",
    "\n",
    "    mlflow.tensorflow.autolog()  # just one line added!\n",
    "\n",
    "    # parameters to vary\n",
    "    hidden_layer_size = 16\n",
    "    learning_rate = 0.1\n",
    "\n",
    "    # a simple NN with one hidden layer\n",
    "    inputs = Input(shape=(X_train.shape[1],))\n",
    "    x = layers.Dense(hidden_layer_size, activation='relu')(inputs)\n",
    "    outputs = layers.Dense(1, activation='sigmoid')(x)\n",
    "    model = Model(inputs, outputs)\n",
    "\n",
    "    loss = 'binary_crossentropy'\n",
    "    optimizer = tf.optimizers.SGD(learning_rate=learning_rate)\n",
    "    metrics = [\n",
    "        tf.metrics.BinaryAccuracy(),\n",
    "        tf.metrics.AUC(curve='ROC', name='AUROC'),\n",
    "    ]\n",
    "    model.compile(optimizer=optimizer, loss=loss, metrics=metrics)\n",
    "\n",
    "    model.fit(X_train, y_train, epochs=40, shuffle=True, validation_data=(X_test, y_test))"
   ]
  },
  {
   "cell_type": "markdown",
   "id": "98cbd422-669f-499e-9f3c-3600a8a06e6b",
   "metadata": {
    "slideshow": {
     "slide_type": "slide"
    },
    "tags": []
   },
   "source": [
    "### Again, all the parameters & metrics relevant to the run are recorded automatically"
   ]
  },
  {
   "cell_type": "markdown",
   "id": "256e61a4-5e64-4123-842f-84e81452a01b",
   "metadata": {},
   "source": [
    "![img](img/ui_11.png)"
   ]
  },
  {
   "cell_type": "markdown",
   "id": "9331e03e-8051-40ff-815b-e1d0a0d31b8d",
   "metadata": {},
   "source": [
    "![img](img/ui_12.png)"
   ]
  },
  {
   "cell_type": "markdown",
   "id": "a273e09f-a0e1-4ec8-8b4f-ef751fc34761",
   "metadata": {},
   "source": [
    "![img](img/ui_13.png)"
   ]
  },
  {
   "cell_type": "markdown",
   "id": "424f2323-7e43-4063-9bfd-63f6b6df3792",
   "metadata": {
    "tags": []
   },
   "source": [
    "### Notice model summary, tensorboard logs, and the TF saved model\n",
    "\n",
    "Note: our team uses this saved model artifact (the inner model folder) directly for deployment, since our infrastructure isn't yet set up to deploy from MLflow directly."
   ]
  },
  {
   "cell_type": "markdown",
   "id": "18f98e8a-d561-4eec-97a1-d99330800006",
   "metadata": {
    "slideshow": {
     "slide_type": "slide"
    },
    "tags": []
   },
   "source": [
    "# Clicking into one of the metrics, we can view training curves"
   ]
  },
  {
   "cell_type": "markdown",
   "id": "c1677afb-6c73-427d-8b53-69bc1cfd6533",
   "metadata": {},
   "source": [
    "![img](img/ui_14.png)"
   ]
  },
  {
   "cell_type": "markdown",
   "id": "df247a28-108f-4874-98da-424661381f8a",
   "metadata": {
    "slideshow": {
     "slide_type": "slide"
    },
    "tags": []
   },
   "source": [
    "# Powerful features for comparing lots of models\n",
    "\n",
    "Suppose you had run many iterations of this small NN with different hyperparameters..."
   ]
  },
  {
   "cell_type": "markdown",
   "id": "2de0f182-26d9-4fe6-bed1-efa906f40981",
   "metadata": {
    "slideshow": {
     "slide_type": "fragment"
    },
    "tags": []
   },
   "source": [
    "### In the UI you can sort by metrics"
   ]
  },
  {
   "cell_type": "markdown",
   "id": "14ffee45-1bba-45bf-91c3-bd4c031c9fec",
   "metadata": {},
   "source": [
    "![img](img/ui_15.png)"
   ]
  },
  {
   "cell_type": "markdown",
   "id": "a892fbe3-c1c2-4449-9399-83f63e276f57",
   "metadata": {
    "tags": []
   },
   "source": [
    "### ... you also view run details side-by-side\n",
    "\n",
    "By selecting a few checkboxes and clicking the \"Compare\" button. Notice parameter differences are highlighted!"
   ]
  },
  {
   "cell_type": "markdown",
   "id": "f272d098-514a-43d4-a0f7-ef600a56c27e",
   "metadata": {},
   "source": [
    "![img](img/ui_16.png)"
   ]
  },
  {
   "cell_type": "markdown",
   "id": "41f96fe4-27b3-4d60-9d7f-619d80e6cb9f",
   "metadata": {
    "slideshow": {
     "slide_type": "slide"
    },
    "tags": []
   },
   "source": [
    "### ... and plot training curves from different runs\n",
    "\n",
    "Similar to TensorBoard."
   ]
  },
  {
   "cell_type": "markdown",
   "id": "c99c90ef-5c0c-4af3-bd96-97dd84fd0cda",
   "metadata": {},
   "source": [
    "![img](img/ui_17.png)"
   ]
  },
  {
   "cell_type": "markdown",
   "id": "e3b4b91f-cd87-4952-b7a1-f2d0af02b70f",
   "metadata": {
    "slideshow": {
     "slide_type": "notes"
    },
    "tags": []
   },
   "source": [
    "---\n",
    "\n",
    "**END MLFLOW TUTORIAL SECTION**\n",
    "\n",
    "---"
   ]
  },
  {
   "cell_type": "markdown",
   "id": "43cbfcbb-0e04-4ea7-b5f4-6e3160043f47",
   "metadata": {
    "slideshow": {
     "slide_type": "slide"
    },
    "tags": []
   },
   "source": [
    "# Incorporating MLflow into our Model Review Process"
   ]
  },
  {
   "cell_type": "markdown",
   "id": "cf1eea13-a134-41f9-83f1-fa5288c9ea0f",
   "metadata": {
    "slideshow": {
     "slide_type": "slide"
    },
    "tags": []
   },
   "source": [
    "# Process Part 1: Training Infrastructure\n",
    "\n",
    "Create/maintain a reasonably-flexibly **common training infrastructure** that works for _most_ of our team's problems."
   ]
  },
  {
   "cell_type": "markdown",
   "id": "2defa9bf-49f2-45b8-9675-f2cb36720c5e",
   "metadata": {
    "slideshow": {
     "slide_type": "slide"
    },
    "tags": []
   },
   "source": [
    "# Process Part 2: MLflow Tracking\n",
    "\n",
    "**MLflow Tracking** is embedded in this infrastructure, so experiment record-keeping happens automatically:\n",
    "- all training parameters & settings\n",
    "- train and test metrics\n",
    "- environment: the docker image, code version, the training script or notebook itself\n",
    "- model (and related artifacts needed for deployment)\n",
    "- common plots and results of analyses that help us understand performance"
   ]
  },
  {
   "cell_type": "markdown",
   "id": "f585c8ee-ab17-4f6f-aafa-09706c9bcf62",
   "metadata": {
    "slideshow": {
     "slide_type": "slide"
    },
    "tags": []
   },
   "source": [
    "# Process Part 3: Use Notes for Context\n",
    "\n",
    "**MLflow UI Markdown Notes** section used for all the context that can't be recorded automatically:\n",
    "- business requirements, e.g. links to any project docs\n",
    "- things we tried that didn't work\n",
    "- describe any non-standard treatment of the data\n",
    "- decisions or trade-offs made along the way\n",
    "- if shadow deployed, any observations on live data\n",
    "- anything you'd want to know if you were picking up the project from scratch"
   ]
  },
  {
   "cell_type": "markdown",
   "id": "582ac8a8-4de6-4cfb-89b0-2fb680f41d45",
   "metadata": {
    "slideshow": {
     "slide_type": "slide"
    },
    "tags": []
   },
   "source": [
    "# Process Part 4: Model Review\n",
    "\n",
    "Prior to Live Launch of a new model, trigger a **Model Review**:\n",
    "- make sure all \"required\" fields were tracked and fill out the Notes section\n",
    "- request a primary and secondary reviewer and send them the link to the MLflow run\n",
    "- reviewers expected to review the MLflow run & related code async\n",
    "- schedule a 30min _synchronous_ review, other team members invited as optional\n",
    "- meeting is to discuss, ask questions, make suggestions (rarely to block deployment)"
   ]
  },
  {
   "cell_type": "markdown",
   "id": "155aa68e-a6cc-404c-97f1-73f8907b6a07",
   "metadata": {
    "slideshow": {
     "slide_type": "fragment"
    },
    "tags": []
   },
   "source": [
    "_Note: this part of our process is evolving! It's not perfect (particularly around collecting reviewer feedback) and I'd love to learn what others are doing._"
   ]
  },
  {
   "cell_type": "markdown",
   "id": "112d5750-f56d-4db2-a1ea-dc3284ae0bf2",
   "metadata": {
    "slideshow": {
     "slide_type": "slide"
    },
    "tags": []
   },
   "source": [
    "# Back to our Goals for Model Review\n",
    "\n",
    "1. **Transparency** is acheived by having shareable links to all the training details.\n",
    "2. **Reproducibility** is improved by recording everything needed to re-create a training run.\n",
    "3. **Knowledge Sharing** happens through the review process or simply by sharing MLflow examples with colleagues.\n",
    "\n",
    "MLflow is a helpful tool to achieve these goals because we can view so many details about the model in one place."
   ]
  },
  {
   "cell_type": "markdown",
   "id": "bf43fc2b-d3b8-4fd7-a6cf-0e91a8e74c63",
   "metadata": {
    "slideshow": {
     "slide_type": "slide"
    },
    "tags": []
   },
   "source": [
    "# Summary\n",
    "\n",
    "- We improved model deployment record keeping by integrating MLflow tracking into our shared training infrastructure.\n",
    "- We are iterating on a formal \"review\" process to learn from each other and catch errors pre-production.\n",
    "- MLflow is a really lightweight and powerful way to track your ML experiments\n",
    "  - adding one line of code (autologging) can get you a long way!\n",
    "  - we only talked about Tracking here (see also: MLflow Projects, Models, Model Registry)\n",
    "- Our \"process\" is a WIP! I'd _really_ love to talk to anyone who has different processes in place for things like this!"
   ]
  },
  {
   "cell_type": "markdown",
   "id": "be9bd744-5c0b-4183-8943-66ff89ff2f46",
   "metadata": {
    "slideshow": {
     "slide_type": "slide"
    },
    "tags": []
   },
   "source": [
    "# Questions?"
   ]
  }
 ],
 "metadata": {
  "kernelspec": {
   "display_name": "Python 3 (ipykernel)",
   "language": "python",
   "name": "python3"
  },
  "language_info": {
   "codemirror_mode": {
    "name": "ipython",
    "version": 3
   },
   "file_extension": ".py",
   "mimetype": "text/x-python",
   "name": "python",
   "nbconvert_exporter": "python",
   "pygments_lexer": "ipython3",
   "version": "3.7.11"
  }
 },
 "nbformat": 4,
 "nbformat_minor": 5
}
