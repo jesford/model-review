{
 "cells": [
  {
   "cell_type": "markdown",
   "id": "2185b04c-1c39-4b92-9684-1eb968bf4ae2",
   "metadata": {
    "slideshow": {
     "slide_type": "slide"
    },
    "tags": []
   },
   "source": [
    "# The Model Review\n",
    "\n",
    "_improving transparency, reproducibility & knowledge sharing with MLflow_\n",
    "\n",
    "<center><img src=\"https://mlflow.org/images/MLflow-logo-final-white-TM.png\" style=\"width: 200px\"></center>\n",
    "\n",
    "Jes Ford, PhD  \n",
    "ML Engineer at Cash App (Block)"
   ]
  },
  {
   "cell_type": "markdown",
   "id": "bb51f474-b7f6-4ff9-8af8-03b048d7f31f",
   "metadata": {
    "slideshow": {
     "slide_type": "slide"
    },
    "tags": []
   },
   "source": [
    "# Hi, Jes Ford here 👋\n",
    "\n",
    "- Snowboarder 1st 🏂\n",
    "- PhD in Physics 🔭\n",
    "- Machine Learning Engineer (Modeler) at Cash App, Block\n",
    "- Working on Natural Language Understanding for Customer Support\n",
    "- Originally from Alaska, currently living in Salt Lake City"
   ]
  },
  {
   "cell_type": "markdown",
   "id": "52a88e46-c8d8-469b-95fa-39f66a33a1e4",
   "metadata": {
    "slideshow": {
     "slide_type": "slide"
    },
    "tags": []
   },
   "source": [
    "# About this talk\n",
    "\n",
    "- Why did my team decide to adopt a process for Model Review?\n",
    "- What does Model Review mean?\n",
    "- Our primary tool for review: MLflow\n",
    "- Intro to MLflow\n",
    "- How we are using MLflow to solve some of our problems"
   ]
  },
  {
   "cell_type": "markdown",
   "id": "3b7f3a7a-0d1a-45ce-908c-0a32cf3a60e5",
   "metadata": {
    "slideshow": {
     "slide_type": "slide"
    },
    "tags": []
   },
   "source": [
    "# Motivation\n",
    "\n",
    "Our team had recently doubled in size and was deploying lots of models.\n",
    "\n",
    "But we had no good record keeping on what models exactly were in production, how they were trained, or what tricks or approaches were working well..."
   ]
  },
  {
   "cell_type": "markdown",
   "id": "218654f2-9224-4562-b3bb-0c6e0c42d78a",
   "metadata": {
    "slideshow": {
     "slide_type": "slide"
    },
    "tags": []
   },
   "source": [
    "# Motivation\n",
    "\n",
    "What if a model needed to be retrained?\n",
    "\n",
    "A new team member wants to build off the work that came before them?\n",
    "\n",
    "What was the precision on that model supposed to be anyway?"
   ]
  },
  {
   "cell_type": "markdown",
   "id": "33785704-075d-4ee8-8556-477869c68d4e",
   "metadata": {
    "slideshow": {
     "slide_type": "fragment"
    },
    "tags": []
   },
   "source": [
    "## _uhhh, let me see if I can find that notebook..._"
   ]
  },
  {
   "cell_type": "markdown",
   "id": "8d7c5159-7454-4ae1-a7cf-aea9c0df463b",
   "metadata": {
    "slideshow": {
     "slide_type": "slide"
    },
    "tags": []
   },
   "source": [
    "# Goals for a new Model Review Process\n",
    "\n",
    "1. **Transparency** and record keeping of what exactly is being deployed\n",
    "2. **Reproducibility** of past experiments and ease of building off of them\n",
    "3. **Knowledge Sharing** so we can learn from each other and new teammembers can get up to speed"
   ]
  },
  {
   "cell_type": "markdown",
   "id": "0d093000-5488-4727-9202-d80db52b4436",
   "metadata": {
    "slideshow": {
     "slide_type": "fragment"
    },
    "tags": []
   },
   "source": [
    "ALSO: We need to **automate** as much of this as possible!"
   ]
  },
  {
   "cell_type": "markdown",
   "id": "726c2b3f-194c-4a2a-9286-ba7c3041e797",
   "metadata": {
    "slideshow": {
     "slide_type": "slide"
    },
    "tags": []
   },
   "source": [
    "# Comparison to Code Review"
   ]
  },
  {
   "cell_type": "markdown",
   "id": "454ef9c4-083a-4d5d-9bda-6b05aca5ef97",
   "metadata": {
    "slideshow": {
     "slide_type": "slide"
    },
    "tags": []
   },
   "source": [
    "# Why do we Review _Code_?\n",
    "\n",
    "- More 👀 on code to spot bugs and potential issues\n",
    "- Pull Requests create a record of changes/commits and also (ideally) documentation of changes, design decisions, trade-offs, etc.\n",
    "- Knowledge sharing between teammates"
   ]
  },
  {
   "cell_type": "markdown",
   "id": "cc34ef85-a8ff-4c31-b552-5094daa8592b",
   "metadata": {
    "slideshow": {
     "slide_type": "slide"
    },
    "tags": []
   },
   "source": [
    "# Code vs Model Review _Similarities_\n",
    "\n",
    "There is code involved."
   ]
  },
  {
   "cell_type": "markdown",
   "id": "cbc7b7fa-8651-48f7-995a-08834b29d213",
   "metadata": {
    "slideshow": {
     "slide_type": "slide"
    },
    "tags": []
   },
   "source": [
    "# Code vs Model Review _Differences_\n",
    "\n",
    "- There is a lot of context beyond the Code Used to train a model\n",
    "  - data, including any transformations\n",
    "  - performance\n",
    "  - entire ML process, including all your failed experiments\n",
    "- We can't really review a model _just_ by reading the final code"
   ]
  },
  {
   "cell_type": "markdown",
   "id": "81e98b7b-a351-46d2-8f5e-17f79a5a6ad1",
   "metadata": {
    "slideshow": {
     "slide_type": "notes"
    },
    "tags": []
   },
   "source": [
    "---\n",
    "\n",
    "**BEGIN MLFLOW TUTORIAL SECTION**\n",
    "\n",
    "---"
   ]
  },
  {
   "cell_type": "markdown",
   "id": "0b15fca9-91c9-40a7-8906-b9740a10a277",
   "metadata": {
    "slideshow": {
     "slide_type": "slide"
    },
    "tags": []
   },
   "source": [
    "# What is MLflow?\n",
    "\n",
    "\"Open source platform for managing the end-to-end machine learning lifecycle\"\n",
    "\n",
    "<center><img src=\"https://databricks.com/wp-content/uploads/2018/06/mlflow.png\" style=\"width: 500px\"></center>\n",
    "\n",
    "Language & library agnostic: includes APIs for Python, R, Java, but everything is accessible throuh a REST API & CLI, so it's very flexible for different use cases.\n",
    "\n",
    "image source: [databricks blog](https://databricks.com/blog/2018/06/05/introducing-mlflow-an-open-source-machine-learning-platform.html)"
   ]
  },
  {
   "cell_type": "markdown",
   "id": "25534ed5-566b-4121-8bc1-0b0832511dd6",
   "metadata": {
    "slideshow": {
     "slide_type": "fragment"
    },
    "tags": []
   },
   "source": [
    "### `$ pip install mlflow`"
   ]
  },
  {
   "cell_type": "markdown",
   "id": "31d7490c-9f92-4f5e-a2fc-61308b8b53fd",
   "metadata": {
    "slideshow": {
     "slide_type": "slide"
    },
    "tags": []
   },
   "source": [
    "# MLflow Tracking\n",
    "\n",
    "Easily log almost anything you want to keep track of:\n",
    "- parameters\n",
    "- metrics\n",
    "- arbitrary files (\"artifacts\" in mlflow)\n",
    "  - such as plots, output files, Jupyter notebooks...\n",
    "- code version\n",
    "- training data"
   ]
  },
  {
   "cell_type": "markdown",
   "id": "ec1ffafe-8887-4853-ab18-fd952f9be036",
   "metadata": {
    "slideshow": {
     "slide_type": "slide"
    },
    "tags": []
   },
   "source": [
    "# First Example"
   ]
  },
  {
   "cell_type": "code",
   "execution_count": 1,
   "id": "5c22aa56-f983-49d1-987e-989327847690",
   "metadata": {
    "tags": []
   },
   "outputs": [],
   "source": [
    "import mlflow\n",
    "\n",
    "mlflow.log_param('my_parameter', 4)  # run starts automatically\n",
    "mlflow.log_metric('score', 100)\n",
    "mlflow.end_run()"
   ]
  },
  {
   "cell_type": "markdown",
   "id": "79da0632",
   "metadata": {
    "slideshow": {
     "slide_type": "slide"
    }
   },
   "source": [
    "# Where is this logged?\n",
    "\n",
    "By default we just log to a local directory:\n",
    "\n",
    "<center><img src=\"https://www.mlflow.org/docs/latest/_images/scenario_1.png\" style=\"width: 800px;\"></center>\n",
    "\n",
    "We can _access_ what we've logged using either the MLflow API or the **MLflow Tracking UI**.\n",
    "\n",
    "image source: [mlflow docs](https://www.mlflow.org/docs)"
   ]
  },
  {
   "cell_type": "markdown",
   "id": "806716f1-73a6-495a-94bd-d38c3491cb64",
   "metadata": {
    "slideshow": {
     "slide_type": "slide"
    },
    "tags": []
   },
   "source": [
    "# MLflow Tracking UI\n",
    "\n",
    "![img](img/mlflow_ui_command.png)"
   ]
  },
  {
   "cell_type": "markdown",
   "id": "b5b44c9e-171a-4b26-b6e2-cf553efc6c60",
   "metadata": {
    "slideshow": {
     "slide_type": "fragment"
    },
    "tags": []
   },
   "source": [
    "\n",
    "\n",
    "$\\rightarrow$ Go to http://127.0.0.1:5000 in your browser..."
   ]
  },
  {
   "cell_type": "markdown",
   "id": "f9c3a4f4-0b64-4265-8f2d-18b2d4aa86eb",
   "metadata": {
    "slideshow": {
     "slide_type": "slide"
    },
    "tags": []
   },
   "source": [
    "![img](img/mlflow_ui_00.png)"
   ]
  },
  {
   "cell_type": "markdown",
   "id": "16facc49-48c3-4a4b-b375-22f12d3a284f",
   "metadata": {
    "slideshow": {
     "slide_type": "slide"
    },
    "tags": []
   },
   "source": [
    "![img](img/mlflow_ui_01.png)"
   ]
  },
  {
   "cell_type": "markdown",
   "id": "7f323614-0f9f-4f27-be5b-73d53e828b16",
   "metadata": {
    "slideshow": {
     "slide_type": "slide"
    },
    "tags": []
   },
   "source": [
    "# Logging Artifacts"
   ]
  },
  {
   "cell_type": "code",
   "execution_count": 2,
   "id": "1fe5cb32-9589-44b4-8dc3-8e5c44e410f2",
   "metadata": {},
   "outputs": [],
   "source": [
    "import mlflow\n",
    "\n",
    "# explicitly start the run to give it a nice name\n",
    "mlflow.start_run(run_name='log-artifacts')\n",
    "\n",
    "mlflow.log_param('my_parameter', 3)\n",
    "mlflow.log_metric('score', 95)\n",
    "\n",
    "with open('my_artifact.txt', 'w') as f:\n",
    "    f.write('This is the contents of a file to be logged.')\n",
    "\n",
    "mlflow.log_artifact('my_artifact.txt')\n",
    "\n",
    "mlflow.end_run()"
   ]
  },
  {
   "cell_type": "markdown",
   "id": "a284fd1b-d1cc-4f80-bec3-4db782364051",
   "metadata": {
    "slideshow": {
     "slide_type": "slide"
    },
    "tags": []
   },
   "source": [
    "![img](img/mlflow_ui_02.png)"
   ]
  },
  {
   "cell_type": "markdown",
   "id": "8e2ba5c7-fbf2-4afb-8bce-06f477b6bd91",
   "metadata": {
    "slideshow": {
     "slide_type": "slide"
    },
    "tags": []
   },
   "source": [
    "![img](img/mlflow_ui_03.png)"
   ]
  },
  {
   "cell_type": "markdown",
   "id": "91610034-3158-4189-88b7-c5008edca613",
   "metadata": {
    "slideshow": {
     "slide_type": "slide"
    },
    "tags": []
   },
   "source": [
    "# Where MLflow data is stored?\n",
    "\n",
    "By default your runs are recorded in files in a local `mlruns/` folder in your working directory. Lots of other options for local and remote tracking - see [MLflow docs](https://www.mlflow.org/docs/latest/tracking.html#how-runs-and-artifacts-are-recorded) for possibilities."
   ]
  },
  {
   "cell_type": "markdown",
   "id": "d44d9b42",
   "metadata": {
    "slideshow": {
     "slide_type": "fragment"
    }
   },
   "source": [
    "<center><table><tr>\n",
    "  <td><img src=\"https://www.mlflow.org/docs/latest/_images/scenario_1.png\" style=\"width: 800px;\"></td>\n",
    "  <td><img src=\"https://www.mlflow.org/docs/latest/_images/scenario_5.png\" style=\"width: 1200px;\"></td>\n",
    "</tr></table></center>\n",
    "\n",
    "image source: [mlflow docs](https://www.mlflow.org/docs)"
   ]
  },
  {
   "cell_type": "markdown",
   "id": "57ccbe0c-12f0-45a0-a9e9-b359de90f870",
   "metadata": {
    "slideshow": {
     "slide_type": "slide"
    },
    "tags": []
   },
   "source": [
    "# Not just for ML!\n",
    "\n",
    "Notice that nothing we've done so far has been ML specific!\n",
    "\n",
    "You could use MLFlow Tracking for kind of any analyses or projects where you find yourself manually recording values."
   ]
  },
  {
   "cell_type": "markdown",
   "id": "391af743-d125-4762-974f-fa013aaf9d21",
   "metadata": {
    "slideshow": {
     "slide_type": "notes"
    },
    "tags": []
   },
   "source": [
    "_(example: at a previous job, people recorded results of model training in a spreadsheet. They had scripts to automate populating this spreadsheet, but it still involved more overhead and was more error prone than MLflow's tracking)_"
   ]
  },
  {
   "cell_type": "code",
   "execution_count": 3,
   "id": "7da64277",
   "metadata": {
    "slideshow": {
     "slide_type": "skip"
    }
   },
   "outputs": [],
   "source": [
    "# suppress all warnings for presentation purposes\n",
    "import warnings\n",
    "warnings.simplefilter('ignore')"
   ]
  },
  {
   "cell_type": "markdown",
   "id": "facb2b49",
   "metadata": {
    "slideshow": {
     "slide_type": "slide"
    }
   },
   "source": [
    "# ... but let's do some ML\n",
    "\n",
    "[\"20 Newsgroups\" dataset](http://qwone.com/~jason/20Newsgroups/): text documents containing discussions of 20 different topics.\n",
    "\n",
    "We'll just use 2 of these topics and build a binary classifier to distinguish between text that is about baseball vs hockey."
   ]
  },
  {
   "cell_type": "markdown",
   "id": "ef37aa17",
   "metadata": {
    "slideshow": {
     "slide_type": "slide"
    }
   },
   "source": [
    "## Load & Prepare a Real World Dataset"
   ]
  },
  {
   "cell_type": "code",
   "execution_count": 4,
   "id": "4108a633-730f-4dc1-988a-4cbda7138cec",
   "metadata": {
    "scrolled": false,
    "slideshow": {
     "slide_type": "-"
    },
    "tags": []
   },
   "outputs": [],
   "source": [
    "from sklearn.datasets import fetch_20newsgroups\n",
    "\n",
    "# load train and test data for 2 categories\n",
    "categories_to_classify = ['rec.sport.baseball', 'rec.sport.hockey']\n",
    "X_train_raw, y_train = fetch_20newsgroups(\n",
    "    subset='train', categories=categories_to_classify, return_X_y=True\n",
    ")\n",
    "X_test_raw, y_test = fetch_20newsgroups(\n",
    "    subset='test', categories=categories_to_classify, return_X_y=True\n",
    ")"
   ]
  },
  {
   "cell_type": "code",
   "execution_count": 5,
   "id": "f2d2ff29",
   "metadata": {
    "slideshow": {
     "slide_type": "fragment"
    }
   },
   "outputs": [
    {
     "name": "stdout",
     "output_type": "stream",
     "text": [
      "From: dougb@comm.mot.com (Doug Bank)\n",
      "Subject: Re: Info needed for Cleveland tickets\n",
      "Reply-To: dougb@ecs.comm.mot.com\n",
      "Organization: Motorola Land Mobile Products Sector\n",
      "Distribution: usa\n",
      "Nntp-Posting-Host: 145.1.146.35\n",
      "Lines: 17\n",
      "\n",
      "In article <1993Apr1.234031.4950@leland.Stanford.EDU>, bohnert@leland.Stanford.EDU (matthew bohnert) writes:\n",
      "\n",
      "|> I'm going to be in Cleveland Thursday, April 15 to Sunday, April 18.\n",
      "|> Does anybody know if the Tribe will be in town on those dates, and\n",
      "|> if so, who're they playing and if tickets are available?\n",
      "\n",
      "The tribe will be in town from April 16 to the 19th.\n",
      "There are ALWAYS tickets available! (Though they are playing Toronto,\n",
      "and many Toronto fans make the trip to Cleveland as it is easier to\n",
      "get tickets in Cleveland than in Toronto.  Either way, I seriously\n",
      "doubt they will sell out until the end of the season.)\n",
      "\n",
      "-- \n",
      "Doug Bank                       Private Systems Division\n",
      "dougb@ecs.comm.mot.com          Motorola Communications Sector\n",
      "dougb@nwu.edu                   Schaumburg, Illinois\n",
      "dougb@casbah.acns.nwu.edu       708-576-8207                    \n",
      "\n"
     ]
    }
   ],
   "source": [
    "# Example document\n",
    "print(X_train_raw[0])"
   ]
  },
  {
   "cell_type": "markdown",
   "id": "c94efd90",
   "metadata": {
    "slideshow": {
     "slide_type": "slide"
    }
   },
   "source": [
    "# Transform data from raw text to numbers"
   ]
  },
  {
   "cell_type": "code",
   "execution_count": 6,
   "id": "092e0b78",
   "metadata": {
    "slideshow": {
     "slide_type": "-"
    }
   },
   "outputs": [
    {
     "name": "stdout",
     "output_type": "stream",
     "text": [
      "Training set size after TF-IDF transform: (1197, 100)\n"
     ]
    }
   ],
   "source": [
    "from sklearn.feature_extraction.text import TfidfVectorizer\n",
    "\n",
    "vectorizer = TfidfVectorizer(max_features=100, stop_words='english')\n",
    "X_train = vectorizer.fit_transform(X_train_raw).todense()\n",
    "X_test = vectorizer.transform(X_test_raw).todense()\n",
    "\n",
    "print('Training set size after TF-IDF transform: {}'.format(X_train.shape))"
   ]
  },
  {
   "cell_type": "markdown",
   "id": "aab5a884-f781-42c1-8100-15f73373b37e",
   "metadata": {
    "slideshow": {
     "slide_type": "slide"
    },
    "tags": []
   },
   "source": [
    "# Tracking your ML Model\n",
    "\n",
    "Use a context manager instead of explicitly starting and ending the run."
   ]
  },
  {
   "cell_type": "code",
   "execution_count": 7,
   "id": "c2e83e0a",
   "metadata": {
    "slideshow": {
     "slide_type": "-"
    }
   },
   "outputs": [],
   "source": [
    "import mlflow\n",
    "import matplotlib.pyplot as plt\n",
    "from sklearn.linear_model import LogisticRegression\n",
    "from sklearn.metrics import accuracy_score, PrecisionRecallDisplay"
   ]
  },
  {
   "cell_type": "code",
   "execution_count": 8,
   "id": "0c90685e",
   "metadata": {
    "slideshow": {
     "slide_type": "-"
    }
   },
   "outputs": [
    {
     "data": {
      "image/png": "[encoded data removed]",
      "text/plain": [
       "<Figure size 432x288 with 1 Axes>"
      ]
     },
     "metadata": {
      "needs_background": "light"
     },
     "output_type": "display_data"
    }
   ],
   "source": [
    "with mlflow.start_run(run_name='hockey-vs-baseball'):\n",
    "\n",
    "    # fit a model with certain hyperparameters\n",
    "    penalty = 'l2'\n",
    "    max_iter = 10\n",
    "    clf = LogisticRegression(penalty=penalty, max_iter=max_iter)\n",
    "    clf.fit(X_train, y_train)\n",
    "    \n",
    "    # get predictions\n",
    "    y_train_pred = clf.predict(X_train)\n",
    "    y_test_pred = clf.predict(X_test)\n",
    "    y_test_predprob = clf.predict_proba(X_test)[:, 1]\n",
    "\n",
    "    # make a plot\n",
    "    fig, ax = plt.subplots(1, 1)\n",
    "    PrecisionRecallDisplay.from_predictions(y_test, y_test_predprob, ax=ax)\n",
    "    fig.savefig('PR.png')\n",
    "\n",
    "    # track all the things\n",
    "    mlflow.log_params({'penalty': penalty, 'max_iter': max_iter})\n",
    "    mlflow.log_metric('acc', accuracy_score(y_train, y_train_pred))\n",
    "    mlflow.log_metric('val_acc', accuracy_score(y_test, y_test_pred))\n",
    "    mlflow.log_artifact('PR.png')\n",
    "    mlflow.log_artifact('tutorial.ipynb')\n",
    "    mlflow.sklearn.log_model(clf, 'model')"
   ]
  },
  {
   "cell_type": "markdown",
   "id": "7669c4f7-6e0e-4381-bf00-bbf640d6dc5f",
   "metadata": {
    "slideshow": {
     "slide_type": "slide"
    },
    "tags": []
   },
   "source": [
    "![img](img/mlflow_ui_04.png)"
   ]
  },
  {
   "cell_type": "markdown",
   "id": "51ba8754-5666-46e5-b810-fb40769d8f3a",
   "metadata": {
    "slideshow": {
     "slide_type": "slide"
    },
    "tags": []
   },
   "source": [
    "![img](img/mlflow_ui_05.png)"
   ]
  },
  {
   "cell_type": "markdown",
   "id": "ecf07534-fbc6-4c4e-abcd-50134dd22f7b",
   "metadata": {
    "tags": []
   },
   "source": [
    "### MLflow provides code snippets for loading & using the trained model via the mlflow API"
   ]
  },
  {
   "cell_type": "markdown",
   "id": "998517f9",
   "metadata": {
    "slideshow": {
     "slide_type": "slide"
    }
   },
   "source": [
    "![img](img/mlflow_ui_06.png)"
   ]
  },
  {
   "cell_type": "markdown",
   "id": "cd94202e-aa1e-436a-a237-95d085765c9a",
   "metadata": {
    "slideshow": {
     "slide_type": "slide"
    },
    "tags": []
   },
   "source": [
    "![img](img/mlflow_ui_07.png)"
   ]
  },
  {
   "cell_type": "markdown",
   "id": "86e0e7b8-e4f9-45e8-b140-6c0acce732ee",
   "metadata": {
    "slideshow": {
     "slide_type": "slide"
    },
    "tags": []
   },
   "source": [
    "# Autologging Model Training"
   ]
  },
  {
   "cell_type": "markdown",
   "id": "9073672a-2abd-4bf0-b6e7-539ef5bae5b3",
   "metadata": {
    "slideshow": {
     "slide_type": "fragment"
    },
    "tags": []
   },
   "source": [
    "A single line of code will automatically tracks lots of useful things about your model, metrics, plots.\n",
    "\n",
    "Supported for `scikit-learn`, `tensorflow` & `keras`, `pytorch`, `xgboost`, and more.\n",
    "\n",
    "_Note:_ this is an \"experimental\" feature in MLflow!"
   ]
  },
  {
   "cell_type": "markdown",
   "id": "5eb37108-27d0-48da-8f67-6fdceb3a53de",
   "metadata": {
    "slideshow": {
     "slide_type": "slide"
    },
    "tags": []
   },
   "source": [
    "# Autologging Example 1: `sklearn`"
   ]
  },
  {
   "cell_type": "code",
   "execution_count": 9,
   "id": "d4402675-0596-4cdb-b851-6fa3fa34daa1",
   "metadata": {
    "slideshow": {
     "slide_type": "fragment"
    }
   },
   "outputs": [
    {
     "name": "stderr",
     "output_type": "stream",
     "text": [
      "2022/04/19 20:37:41 WARNING mlflow.utils.autologging_utils: You are using an unsupported version of sklearn. If you encounter errors during autologging, try upgrading / downgrading sklearn to a supported version, or try upgrading MLflow.\n",
      "2022/04/19 20:37:41 INFO mlflow.utils.autologging_utils: Created MLflow autologging run with ID 'd2049ae6b4074af49867e89e58d9973c', which will track hyperparameters, performance metrics, model artifacts, and lineage information for the current sklearn workflow\n"
     ]
    },
    {
     "data": {
      "text/plain": [
       "RandomForestClassifier(n_estimators=10)"
      ]
     },
     "execution_count": 9,
     "metadata": {},
     "output_type": "execute_result"
    }
   ],
   "source": [
    "from sklearn.ensemble import RandomForestClassifier\n",
    "\n",
    "mlflow.sklearn.autolog()  # just one line added!\n",
    "\n",
    "rfc = RandomForestClassifier(n_estimators=10)\n",
    "rfc.fit(X_train, y_train)"
   ]
  },
  {
   "cell_type": "markdown",
   "id": "6e8e6445",
   "metadata": {
    "slideshow": {
     "slide_type": "slide"
    }
   },
   "source": [
    "# Back in the MLflow UI..."
   ]
  },
  {
   "cell_type": "markdown",
   "id": "134478eb-2bc1-4bc9-b5f3-2069d0671f00",
   "metadata": {
    "slideshow": {
     "slide_type": "slide"
    },
    "tags": []
   },
   "source": [
    "![img](img/mlflow_ui_08.png)"
   ]
  },
  {
   "cell_type": "markdown",
   "id": "9d26c70b-4c05-4ca4-b0a0-75130d33e4c1",
   "metadata": {
    "slideshow": {
     "slide_type": "notes"
    },
    "tags": []
   },
   "source": [
    "### We see all RF hyperparameters (even those we didn't set explicitly) are recorded...\n",
    "\n",
    "... as well as some default training metrics (would have to log validation metrics manually since `.fit` doesn't know about them)\n",
    "\n",
    "... and we get some really useful plots out of the box!"
   ]
  },
  {
   "cell_type": "markdown",
   "id": "95afcaf1-b67f-42f5-b0f0-4a846c7b2c8c",
   "metadata": {
    "slideshow": {
     "slide_type": "slide"
    },
    "tags": []
   },
   "source": [
    "# Autologging Example 2: `tensorflow.keras`"
   ]
  },
  {
   "cell_type": "code",
   "execution_count": 16,
   "id": "8b4e9616-2402-41e7-b54e-597462830916",
   "metadata": {
    "slideshow": {
     "slide_type": "fragment"
    }
   },
   "outputs": [
    {
     "name": "stdout",
     "output_type": "stream",
     "text": [
      "Train on 1197 samples, validate on 796 samples\n",
      "Epoch 1/40\n",
      "1152/1197 [===========================>..] - ETA: 0s - loss: 0.6944 - binary_accuracy: 0.4826 - AUROC: 0.4870"
     ]
    },
    {
     "name": "stderr",
     "output_type": "stream",
     "text": [
      "2022-04-19 20:51:03.144988: I tensorflow/core/profiler/lib/profiler_session.cc:184] Profiler session started.\n"
     ]
    },
    {
     "name": "stdout",
     "output_type": "stream",
     "text": [
      "1197/1197 [==============================] - 2s 2ms/sample - loss: 0.6945 - binary_accuracy: 0.4795 - AUROC: 0.4853 - val_loss: 0.6879 - val_binary_accuracy: 0.5540 - val_AUROC: 0.5841\n",
      "Epoch 2/40\n",
      "1197/1197 [==============================] - 0s 252us/sample - loss: 0.6933 - binary_accuracy: 0.4937 - AUROC: 0.5005 - val_loss: 0.6870 - val_binary_accuracy: 0.5666 - val_AUROC: 0.5963\n",
      "Epoch 3/40\n",
      "1197/1197 [==============================] - 0s 250us/sample - loss: 0.6920 - binary_accuracy: 0.5104 - AUROC: 0.5184 - val_loss: 0.6861 - val_binary_accuracy: 0.5854 - val_AUROC: 0.6069\n",
      "Epoch 4/40\n",
      "1197/1197 [==============================] - 0s 267us/sample - loss: 0.6909 - binary_accuracy: 0.5246 - AUROC: 0.5357 - val_loss: 0.6852 - val_binary_accuracy: 0.5930 - val_AUROC: 0.6176\n",
      "Epoch 5/40\n",
      "1197/1197 [==============================] - 0s 246us/sample - loss: 0.6896 - binary_accuracy: 0.5455 - AUROC: 0.5524 - val_loss: 0.6843 - val_binary_accuracy: 0.6055 - val_AUROC: 0.6310\n",
      "Epoch 6/40\n",
      "1197/1197 [==============================] - 0s 255us/sample - loss: 0.6885 - binary_accuracy: 0.5522 - AUROC: 0.5698 - val_loss: 0.6834 - val_binary_accuracy: 0.6131 - val_AUROC: 0.6431\n",
      "Epoch 7/40\n",
      "1197/1197 [==============================] - 0s 274us/sample - loss: 0.6873 - binary_accuracy: 0.5647 - AUROC: 0.5869 - val_loss: 0.6825 - val_binary_accuracy: 0.6219 - val_AUROC: 0.6518\n",
      "Epoch 8/40\n",
      "1197/1197 [==============================] - 0s 301us/sample - loss: 0.6861 - binary_accuracy: 0.5773 - AUROC: 0.6031 - val_loss: 0.6817 - val_binary_accuracy: 0.6231 - val_AUROC: 0.6625\n",
      "Epoch 9/40\n",
      "1197/1197 [==============================] - 0s 291us/sample - loss: 0.6849 - binary_accuracy: 0.5865 - AUROC: 0.6189 - val_loss: 0.6808 - val_binary_accuracy: 0.6294 - val_AUROC: 0.6699\n",
      "Epoch 10/40\n",
      "1197/1197 [==============================] - 0s 284us/sample - loss: 0.6837 - binary_accuracy: 0.5990 - AUROC: 0.6317 - val_loss: 0.6799 - val_binary_accuracy: 0.6394 - val_AUROC: 0.6832\n",
      "Epoch 11/40\n",
      "1197/1197 [==============================] - 0s 347us/sample - loss: 0.6825 - binary_accuracy: 0.6065 - AUROC: 0.6501 - val_loss: 0.6789 - val_binary_accuracy: 0.6420 - val_AUROC: 0.6894\n",
      "Epoch 12/40\n",
      "1197/1197 [==============================] - 0s 352us/sample - loss: 0.6812 - binary_accuracy: 0.6157 - AUROC: 0.6617 - val_loss: 0.6780 - val_binary_accuracy: 0.6545 - val_AUROC: 0.6957\n",
      "Epoch 13/40\n",
      "1197/1197 [==============================] - 0s 253us/sample - loss: 0.6800 - binary_accuracy: 0.6224 - AUROC: 0.6728 - val_loss: 0.6770 - val_binary_accuracy: 0.6595 - val_AUROC: 0.7031\n",
      "Epoch 14/40\n",
      "1197/1197 [==============================] - 0s 253us/sample - loss: 0.6787 - binary_accuracy: 0.6391 - AUROC: 0.6875 - val_loss: 0.6761 - val_binary_accuracy: 0.6608 - val_AUROC: 0.7121\n",
      "Epoch 15/40\n",
      "1197/1197 [==============================] - 0s 328us/sample - loss: 0.6774 - binary_accuracy: 0.6466 - AUROC: 0.7000 - val_loss: 0.6750 - val_binary_accuracy: 0.6671 - val_AUROC: 0.7196\n",
      "Epoch 16/40\n",
      "1197/1197 [==============================] - 0s 334us/sample - loss: 0.6761 - binary_accuracy: 0.6591 - AUROC: 0.7102 - val_loss: 0.6740 - val_binary_accuracy: 0.6683 - val_AUROC: 0.7267\n",
      "Epoch 17/40\n",
      "1197/1197 [==============================] - 0s 353us/sample - loss: 0.6748 - binary_accuracy: 0.6658 - AUROC: 0.7199 - val_loss: 0.6729 - val_binary_accuracy: 0.6796 - val_AUROC: 0.7318\n",
      "Epoch 18/40\n",
      "1197/1197 [==============================] - 0s 310us/sample - loss: 0.6734 - binary_accuracy: 0.6717 - AUROC: 0.7289 - val_loss: 0.6719 - val_binary_accuracy: 0.6784 - val_AUROC: 0.7373\n",
      "Epoch 19/40\n",
      "1197/1197 [==============================] - 0s 369us/sample - loss: 0.6720 - binary_accuracy: 0.6775 - AUROC: 0.7399 - val_loss: 0.6707 - val_binary_accuracy: 0.6872 - val_AUROC: 0.7452\n",
      "Epoch 20/40\n",
      "1197/1197 [==============================] - 0s 374us/sample - loss: 0.6706 - binary_accuracy: 0.6809 - AUROC: 0.7488 - val_loss: 0.6696 - val_binary_accuracy: 0.6935 - val_AUROC: 0.7507\n",
      "Epoch 21/40\n",
      "1197/1197 [==============================] - 0s 373us/sample - loss: 0.6691 - binary_accuracy: 0.6884 - AUROC: 0.7558 - val_loss: 0.6683 - val_binary_accuracy: 0.6960 - val_AUROC: 0.7550\n",
      "Epoch 22/40\n",
      "1197/1197 [==============================] - 0s 350us/sample - loss: 0.6676 - binary_accuracy: 0.6884 - AUROC: 0.7639 - val_loss: 0.6671 - val_binary_accuracy: 0.6985 - val_AUROC: 0.7609\n",
      "Epoch 23/40\n",
      "1197/1197 [==============================] - 0s 278us/sample - loss: 0.6661 - binary_accuracy: 0.6984 - AUROC: 0.7708 - val_loss: 0.6658 - val_binary_accuracy: 0.7010 - val_AUROC: 0.7651\n",
      "Epoch 24/40\n",
      "1197/1197 [==============================] - 0s 349us/sample - loss: 0.6644 - binary_accuracy: 0.6976 - AUROC: 0.7792 - val_loss: 0.6645 - val_binary_accuracy: 0.7010 - val_AUROC: 0.7688\n",
      "Epoch 25/40\n",
      "1197/1197 [==============================] - 0s 300us/sample - loss: 0.6628 - binary_accuracy: 0.7068 - AUROC: 0.7846 - val_loss: 0.6631 - val_binary_accuracy: 0.7023 - val_AUROC: 0.7745\n",
      "Epoch 26/40\n",
      "1197/1197 [==============================] - 0s 363us/sample - loss: 0.6611 - binary_accuracy: 0.7101 - AUROC: 0.7914 - val_loss: 0.6617 - val_binary_accuracy: 0.7048 - val_AUROC: 0.7801\n",
      "Epoch 27/40\n",
      "1197/1197 [==============================] - 0s 283us/sample - loss: 0.6593 - binary_accuracy: 0.7143 - AUROC: 0.7967 - val_loss: 0.6602 - val_binary_accuracy: 0.7085 - val_AUROC: 0.7838\n",
      "Epoch 28/40\n",
      "1197/1197 [==============================] - 0s 254us/sample - loss: 0.6575 - binary_accuracy: 0.7126 - AUROC: 0.8026 - val_loss: 0.6587 - val_binary_accuracy: 0.7111 - val_AUROC: 0.7877\n",
      "Epoch 29/40\n",
      "1197/1197 [==============================] - 0s 274us/sample - loss: 0.6557 - binary_accuracy: 0.7168 - AUROC: 0.8087 - val_loss: 0.6572 - val_binary_accuracy: 0.7148 - val_AUROC: 0.7904\n",
      "Epoch 30/40\n",
      "1197/1197 [==============================] - 0s 320us/sample - loss: 0.6538 - binary_accuracy: 0.7243 - AUROC: 0.8131 - val_loss: 0.6556 - val_binary_accuracy: 0.7186 - val_AUROC: 0.7942\n",
      "Epoch 31/40\n",
      "1197/1197 [==============================] - 0s 346us/sample - loss: 0.6518 - binary_accuracy: 0.7302 - AUROC: 0.8165 - val_loss: 0.6540 - val_binary_accuracy: 0.7211 - val_AUROC: 0.7968\n",
      "Epoch 32/40\n",
      "1197/1197 [==============================] - 0s 363us/sample - loss: 0.6498 - binary_accuracy: 0.7377 - AUROC: 0.8225 - val_loss: 0.6523 - val_binary_accuracy: 0.7186 - val_AUROC: 0.8005\n",
      "Epoch 33/40\n",
      "1197/1197 [==============================] - 0s 360us/sample - loss: 0.6477 - binary_accuracy: 0.7385 - AUROC: 0.8250 - val_loss: 0.6505 - val_binary_accuracy: 0.7211 - val_AUROC: 0.8035\n",
      "Epoch 34/40\n",
      "1197/1197 [==============================] - 0s 307us/sample - loss: 0.6456 - binary_accuracy: 0.7393 - AUROC: 0.8297 - val_loss: 0.6487 - val_binary_accuracy: 0.7224 - val_AUROC: 0.8053\n",
      "Epoch 35/40\n",
      "1197/1197 [==============================] - 0s 273us/sample - loss: 0.6433 - binary_accuracy: 0.7469 - AUROC: 0.8331 - val_loss: 0.6469 - val_binary_accuracy: 0.7286 - val_AUROC: 0.8102\n",
      "Epoch 36/40\n",
      "1197/1197 [==============================] - 0s 242us/sample - loss: 0.6410 - binary_accuracy: 0.7510 - AUROC: 0.8368 - val_loss: 0.6450 - val_binary_accuracy: 0.7312 - val_AUROC: 0.8116\n",
      "Epoch 37/40\n",
      "1197/1197 [==============================] - 0s 331us/sample - loss: 0.6387 - binary_accuracy: 0.7536 - AUROC: 0.8402 - val_loss: 0.6430 - val_binary_accuracy: 0.7299 - val_AUROC: 0.8143\n",
      "Epoch 38/40\n",
      "1197/1197 [==============================] - 0s 269us/sample - loss: 0.6363 - binary_accuracy: 0.7561 - AUROC: 0.8441 - val_loss: 0.6411 - val_binary_accuracy: 0.7337 - val_AUROC: 0.8170\n",
      "Epoch 39/40\n",
      "1197/1197 [==============================] - 0s 348us/sample - loss: 0.6337 - binary_accuracy: 0.7619 - AUROC: 0.8471 - val_loss: 0.6390 - val_binary_accuracy: 0.7349 - val_AUROC: 0.8194\n",
      "Epoch 40/40\n",
      "1197/1197 [==============================] - 0s 360us/sample - loss: 0.6312 - binary_accuracy: 0.7619 - AUROC: 0.8500 - val_loss: 0.6369 - val_binary_accuracy: 0.7374 - val_AUROC: 0.8215\n",
      "INFO:tensorflow:Assets written to: /var/folders/xv/48y52h7j27g9jp0vs5n4s8rc0000gn/T/tmp7jcsckvn/model/data/model/assets\n"
     ]
    }
   ],
   "source": [
    "import tensorflow as tf\n",
    "from tensorflow.keras import Input, Model, layers\n",
    "\n",
    "# parameters to vary\n",
    "hidden_layer_size = 32\n",
    "learning_rate = 0.01\n",
    "\n",
    "with mlflow.start_run(run_name=f'sports-NN-{hidden_layer_size}d-lr{learning_rate}'):\n",
    "\n",
    "    mlflow.tensorflow.autolog()  # just one line added!\n",
    "\n",
    "    # a simple NN with one hidden layer\n",
    "    inputs = Input(shape=(X_train.shape[1],))\n",
    "    x = layers.Dense(hidden_layer_size, activation='relu')(inputs)\n",
    "    outputs = layers.Dense(1, activation='sigmoid')(x)\n",
    "    model = Model(inputs, outputs)\n",
    "\n",
    "    loss = 'binary_crossentropy'\n",
    "    optimizer = tf.optimizers.SGD(learning_rate=learning_rate)\n",
    "    metrics = [\n",
    "        tf.metrics.BinaryAccuracy(),\n",
    "        tf.metrics.AUC(curve='ROC', name='AUROC'),\n",
    "    ]\n",
    "    model.compile(optimizer=optimizer, loss=loss, metrics=metrics)\n",
    "\n",
    "    model.fit(X_train, y_train, epochs=40, shuffle=True, validation_data=(X_test, y_test))"
   ]
  },
  {
   "cell_type": "markdown",
   "id": "98cbd422-669f-499e-9f3c-3600a8a06e6b",
   "metadata": {
    "slideshow": {
     "slide_type": "slide"
    },
    "tags": []
   },
   "source": [
    "# ... back in MLflow UI\n",
    "\n",
    "Again, all the parameters & metrics relevant to the run are recorded automatically"
   ]
  },
  {
   "cell_type": "markdown",
   "id": "256e61a4-5e64-4123-842f-84e81452a01b",
   "metadata": {
    "slideshow": {
     "slide_type": "slide"
    }
   },
   "source": [
    "![img](img/mlflow_ui_09.png)"
   ]
  },
  {
   "cell_type": "markdown",
   "id": "424f2323-7e43-4063-9bfd-63f6b6df3792",
   "metadata": {
    "slideshow": {
     "slide_type": "notes"
    },
    "tags": []
   },
   "source": [
    "### Notice model summary, tensorboard logs, and the TF saved model\n",
    "\n",
    "Note: our team uses this saved model artifact (the inner model folder) directly for deployment, since our infrastructure isn't yet set up to deploy from MLflow directly."
   ]
  },
  {
   "cell_type": "markdown",
   "id": "18f98e8a-d561-4eec-97a1-d99330800006",
   "metadata": {
    "slideshow": {
     "slide_type": "slide"
    },
    "tags": []
   },
   "source": [
    "# Clicking into one of the metrics, we can view training curves"
   ]
  },
  {
   "cell_type": "markdown",
   "id": "c1677afb-6c73-427d-8b53-69bc1cfd6533",
   "metadata": {
    "slideshow": {
     "slide_type": "fragment"
    }
   },
   "source": [
    "![img](img/mlflow_ui_10.png)"
   ]
  },
  {
   "cell_type": "markdown",
   "id": "df247a28-108f-4874-98da-424661381f8a",
   "metadata": {
    "slideshow": {
     "slide_type": "slide"
    },
    "tags": []
   },
   "source": [
    "# Powerful features for comparing lots of models\n",
    "\n",
    "Suppose you had run many iterations of this small NN with different hyperparameters..."
   ]
  },
  {
   "cell_type": "markdown",
   "id": "bbf2b0a5",
   "metadata": {
    "slideshow": {
     "slide_type": "slide"
    }
   },
   "source": [
    "## In the UI you can sort by metrics for a Leaderboard"
   ]
  },
  {
   "cell_type": "markdown",
   "id": "14ffee45-1bba-45bf-91c3-bd4c031c9fec",
   "metadata": {
    "slideshow": {
     "slide_type": "-"
    }
   },
   "source": [
    "![img](img/mlflow_ui_11.png)"
   ]
  },
  {
   "cell_type": "markdown",
   "id": "a892fbe3-c1c2-4449-9399-83f63e276f57",
   "metadata": {
    "slideshow": {
     "slide_type": "notes"
    },
    "tags": []
   },
   "source": [
    "### ... you can also view run details side-by-side\n",
    "\n",
    "By selecting a few checkboxes and clicking the \"Compare\" button. Notice parameter differences are highlighted!"
   ]
  },
  {
   "cell_type": "markdown",
   "id": "45e9707f",
   "metadata": {
    "slideshow": {
     "slide_type": "slide"
    }
   },
   "source": [
    "## Select a few models to compare"
   ]
  },
  {
   "cell_type": "markdown",
   "id": "7b8046ae",
   "metadata": {
    "slideshow": {
     "slide_type": "-"
    }
   },
   "source": [
    "![img](img/mlflow_ui_12.png)"
   ]
  },
  {
   "cell_type": "markdown",
   "id": "75239eb1",
   "metadata": {
    "slideshow": {
     "slide_type": "slide"
    }
   },
   "source": [
    "![img](img/mlflow_ui_13.png)"
   ]
  },
  {
   "cell_type": "markdown",
   "id": "41f96fe4-27b3-4d60-9d7f-619d80e6cb9f",
   "metadata": {
    "slideshow": {
     "slide_type": "slide"
    },
    "tags": []
   },
   "source": [
    "## Click into metrics to compare training curves from different runs\n",
    "\n",
    "Similar to TensorBoard."
   ]
  },
  {
   "cell_type": "markdown",
   "id": "c99c90ef-5c0c-4af3-bd96-97dd84fd0cda",
   "metadata": {
    "slideshow": {
     "slide_type": "fragment"
    }
   },
   "source": [
    "![img](img/mlflow_ui_14.png)"
   ]
  },
  {
   "cell_type": "markdown",
   "id": "e3b4b91f-cd87-4952-b7a1-f2d0af02b70f",
   "metadata": {
    "slideshow": {
     "slide_type": "notes"
    },
    "tags": []
   },
   "source": [
    "---\n",
    "\n",
    "**END MLFLOW TUTORIAL SECTION**\n",
    "\n",
    "---"
   ]
  },
  {
   "cell_type": "markdown",
   "id": "43cbfcbb-0e04-4ea7-b5f4-6e3160043f47",
   "metadata": {
    "slideshow": {
     "slide_type": "slide"
    },
    "tags": []
   },
   "source": [
    "# Incorporating MLflow into our Model Review Process"
   ]
  },
  {
   "cell_type": "markdown",
   "id": "cf1eea13-a134-41f9-83f1-fa5288c9ea0f",
   "metadata": {
    "slideshow": {
     "slide_type": "slide"
    },
    "tags": []
   },
   "source": [
    "# Step 1: Training Infrastructure\n",
    "\n",
    "Create/maintain a reasonably-flexibly **common training infrastructure** that works for _most_ of our team's problems."
   ]
  },
  {
   "cell_type": "markdown",
   "id": "2defa9bf-49f2-45b8-9675-f2cb36720c5e",
   "metadata": {
    "slideshow": {
     "slide_type": "slide"
    },
    "tags": []
   },
   "source": [
    "# Step 2: MLflow Tracking\n",
    "\n",
    "**MLflow Tracking** is embedded in this infrastructure, so experiment record-keeping happens automatically:\n",
    "- all training parameters & settings\n",
    "- train and test metrics\n",
    "- environment: the docker image, code version, the training script or notebook itself\n",
    "- model (and related artifacts needed for deployment)\n",
    "- common plots and results of analyses that help us understand performance"
   ]
  },
  {
   "cell_type": "markdown",
   "id": "f585c8ee-ab17-4f6f-aafa-09706c9bcf62",
   "metadata": {
    "slideshow": {
     "slide_type": "slide"
    },
    "tags": []
   },
   "source": [
    "# Step 3: Use Notes for Context\n",
    "\n",
    "**MLflow UI Markdown Notes** section used for all the context that can't be recorded automatically:\n",
    "- business requirements, e.g. links to any project docs\n",
    "- things we tried that didn't work\n",
    "- describe any non-standard treatment of the data\n",
    "- decisions or trade-offs made along the way\n",
    "- if shadow deployed, any observations on live data\n",
    "- anything you'd want to know if you were picking up the project from scratch"
   ]
  },
  {
   "cell_type": "markdown",
   "id": "582ac8a8-4de6-4cfb-89b0-2fb680f41d45",
   "metadata": {
    "slideshow": {
     "slide_type": "slide"
    },
    "tags": []
   },
   "source": [
    "# Step 4: Model Review\n",
    "\n",
    "Prior to Live Launch of a new model, trigger a **Model Review**:\n",
    "- make sure all \"required\" fields were tracked and fill out the Notes section\n",
    "- request a primary and secondary reviewer and send them the link to the MLflow run\n",
    "- reviewers expected to review the MLflow run & related code async\n",
    "- schedule a 30min _synchronous_ review, other team members invited as optional\n",
    "- meeting is to discuss, ask questions, make suggestions (rarely to block deployment)"
   ]
  },
  {
   "cell_type": "markdown",
   "id": "112d5750-f56d-4db2-a1ea-dc3284ae0bf2",
   "metadata": {
    "slideshow": {
     "slide_type": "slide"
    },
    "tags": []
   },
   "source": [
    "# Back to our Goals for Model Review\n",
    "\n",
    "1. **Transparency** is acheived by having shareable links to all the training details.\n",
    "2. **Reproducibility** is improved by recording everything needed to re-create a training run.\n",
    "3. **Knowledge Sharing** happens through the review process or simply by sharing MLflow examples with colleagues.\n",
    "\n",
    "MLflow is a helpful for this because we can view so many details about the model in one place."
   ]
  },
  {
   "cell_type": "markdown",
   "id": "bf43fc2b-d3b8-4fd7-a6cf-0e91a8e74c63",
   "metadata": {
    "slideshow": {
     "slide_type": "slide"
    },
    "tags": []
   },
   "source": [
    "# Summary\n",
    "\n",
    "- We improved model deployment record keeping by integrating MLflow tracking into our shared training infrastructure.\n",
    "- MLflow is a lightweight and powerful way to track your ML experiments\n",
    "  - adding one line of code (autologging) can get you a long way!\n",
    "  - we only talked about Tracking here (see also: MLflow Projects, Models, Model Registry)\n",
    "- Our review \"process\" is a WIP! I'd _really_ love to talk to anyone who has different processes in place for things like this!"
   ]
  },
  {
   "cell_type": "markdown",
   "id": "be9bd744-5c0b-4183-8943-66ff89ff2f46",
   "metadata": {
    "slideshow": {
     "slide_type": "slide"
    },
    "tags": []
   },
   "source": [
    "# Questions? 🤔\n",
    "\n",
    "This notebook presentation is on GitHub: https://github.com/jesford/model-review"
   ]
  },
  {
   "cell_type": "code",
   "execution_count": 1,
   "id": "1dce7758-7225-44e5-acdc-d5e243f1bd22",
   "metadata": {
    "slideshow": {
     "slide_type": "notes"
    },
    "tags": []
   },
   "outputs": [
    {
     "data": {
      "text/html": [
       "<style type=\"text/css\">\n",
       "\n",
       ".reveal p {\n",
       "    font-size: 80%;\n",
       "}\n",
       "\n",
       ".reveal li {\n",
       "    font-size: 80%;\n",
       "}\n",
       "\n",
       "# .reveal li li {\n",
       "#     font-size: 80%;\n",
       "# }\n",
       "\n",
       ".reveal h1 {\n",
       "    color: #4ec5c7;\n",
       "    font-size: 48px;\n",
       "}\n",
       "\n",
       ".reveal h2 {\n",
       "    color: #4ec5c7;\n",
       "    font-size: 36px;\n",
       "}\n",
       "\n",
       ".reveal h3 {\n",
       "    font-size: 30px;\n",
       "}\n",
       "\n",
       "# .reveal table {\n",
       "#     font-size: 1em;\n",
       "# }\n",
       "\n",
       "# .reveal div.highlight {\n",
       "#     margin: 0; \n",
       "# }\n",
       "\n",
       "# .reveal div.highlight>pre {\n",
       "#     margin: 0; \n",
       "#     width: 100%;\n",
       "#     font-size: var(--jp-code-font-size);\n",
       "# }\n",
       "\n",
       "# .reveal div.jp-OutputArea-output>pre {\n",
       "#     margin: 0; \n",
       "#     width: 90%;\n",
       "#     font-size: var(--jp-code-font-size);\n",
       "#     box-shadow: none;\n",
       "# }\n",
       "\n",
       "</style>\n",
       "\n",
       "# note: can't set as slide type \"skip\" or settings aren't applied, use \"notes\".\n"
      ],
      "text/plain": [
       "<IPython.core.display.HTML object>"
      ]
     },
     "metadata": {},
     "output_type": "display_data"
    }
   ],
   "source": [
    "%%html\n",
    "<style type=\"text/css\">\n",
    "\n",
    ".reveal p {\n",
    "    font-size: 80%;\n",
    "}\n",
    "\n",
    ".reveal li {\n",
    "    font-size: 80%;\n",
    "}\n",
    "\n",
    "# .reveal li li {\n",
    "#     font-size: 80%;\n",
    "# }\n",
    "\n",
    ".reveal h1 {\n",
    "    color: #4ec5c7;\n",
    "    font-size: 48px;\n",
    "}\n",
    "\n",
    ".reveal h2 {\n",
    "    color: #4ec5c7;\n",
    "    font-size: 36px;\n",
    "}\n",
    "\n",
    ".reveal h3 {\n",
    "    font-size: 30px;\n",
    "}\n",
    "\n",
    "# .reveal table {\n",
    "#     font-size: 1em;\n",
    "# }\n",
    "\n",
    "# .reveal div.highlight {\n",
    "#     margin: 0; \n",
    "# }\n",
    "\n",
    "# .reveal div.highlight>pre {\n",
    "#     margin: 0; \n",
    "#     width: 100%;\n",
    "#     font-size: var(--jp-code-font-size);\n",
    "# }\n",
    "\n",
    "# .reveal div.jp-OutputArea-output>pre {\n",
    "#     margin: 0; \n",
    "#     width: 90%;\n",
    "#     font-size: var(--jp-code-font-size);\n",
    "#     box-shadow: none;\n",
    "# }\n",
    "\n",
    "</style>\n",
    "\n",
    "# note: can't set as slide type \"skip\" or settings aren't applied, use \"notes\"."
   ]
  }
 ],
 "metadata": {
  "celltoolbar": "Slideshow",
  "kernelspec": {
   "display_name": "Python 3 (ipykernel)",
   "language": "python",
   "name": "python3"
  },
  "language_info": {
   "codemirror_mode": {
    "name": "ipython",
    "version": 3
   },
   "file_extension": ".py",
   "mimetype": "text/x-python",
   "name": "python",
   "nbconvert_exporter": "python",
   "pygments_lexer": "ipython3",
   "version": "3.9.12"
  },
  "varInspector": {
   "cols": {
    "lenName": 16,
    "lenType": 16,
    "lenVar": 40
   },
   "kernels_config": {
    "python": {
     "delete_cmd_postfix": "",
     "delete_cmd_prefix": "del ",
     "library": "var_list.py",
     "varRefreshCmd": "print(var_dic_list())"
    },
    "r": {
     "delete_cmd_postfix": ") ",
     "delete_cmd_prefix": "rm(",
     "library": "var_list.r",
     "varRefreshCmd": "cat(var_dic_list()) "
    }
   },
   "types_to_exclude": [
    "module",
    "function",
    "builtin_function_or_method",
    "instance",
    "_Feature"
   ],
   "window_display": false
  }
 },
 "nbformat": 4,
 "nbformat_minor": 5
}
